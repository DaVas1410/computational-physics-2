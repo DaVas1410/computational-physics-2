{
 "cells": [
  {
   "cell_type": "markdown",
   "metadata": {},
   "source": [
    "#Usage Example\n",
    "\n",
    "This notebook ilustrates how a user can call this module"
   ]
  },
  {
   "cell_type": "code",
   "execution_count": 3,
   "metadata": {},
   "outputs": [],
   "source": [
    "import magnetic.magnetic as mg"
   ]
  },
  {
   "cell_type": "code",
   "execution_count": 6,
   "metadata": {},
   "outputs": [
    {
     "name": "stdout",
     "output_type": "stream",
     "text": [
      "Help on module magnetic.magnetic in magnetic:\n",
      "\n",
      "NAME\n",
      "    magnetic.magnetic - # Import modules\n",
      "\n",
      "CLASSES\n",
      "    builtins.object\n",
      "        MagneticField2D\n",
      "    \n",
      "    class MagneticField2D(builtins.object)\n",
      "     |  MagneticField2D(x_l=-10.0, x_r=10, y_l=-10, y_r=10, n=50)\n",
      "     |  \n",
      "     |  Main class.\n",
      "     |  \n",
      "     |  Methods defined here:\n",
      "     |  \n",
      "     |  __init__(self, x_l=-10.0, x_r=10, y_l=-10, y_r=10, n=50)\n",
      "     |      This function inialised the grid parameters.\n",
      "     |  \n",
      "     |  grid_generator(self)\n",
      "     |      This function is used for grid generation.\n",
      "     |      Input: instance self\n",
      "     |      Output: x_2d, y_2d (2D matrices with the coordiantes.)\n",
      "     |  \n",
      "     |  plot_2dfield(self, field_type='uniform')\n",
      "     |      Plotting method.\n",
      "     |  \n",
      "     |  ----------------------------------------------------------------------\n",
      "     |  Static methods defined here:\n",
      "     |  \n",
      "     |  dipolar_bfield(x_2d, y_2d)\n",
      "     |      This function returns a 2D B uniform field from input coordinates.\n",
      "     |      Inputs: x_2d, y_2d -> 2D coordinate matrices\n",
      "     |      Output: bx_2d, by_2d -> 2D components\n",
      "     |  \n",
      "     |  uniform_bfield(x_2d, y_2d)\n",
      "     |      This function returns a 2D B dipolar field from input coordinates.\n",
      "     |      Inputs: x_2d, y_2d -> 2D coordinate matrices\n",
      "     |      Output: bx_2d, by_2d -> 2D components\n",
      "     |  \n",
      "     |  ----------------------------------------------------------------------\n",
      "     |  Data descriptors defined here:\n",
      "     |  \n",
      "     |  __dict__\n",
      "     |      dictionary for instance variables (if defined)\n",
      "     |  \n",
      "     |  __weakref__\n",
      "     |      list of weak references to the object (if defined)\n",
      "\n",
      "FILE\n",
      "    /home/davas/Documents/computational-physics-2/unit-2/magnetic-dev/magnetic/magnetic.py\n",
      "\n",
      "\n"
     ]
    }
   ],
   "source": [
    "help(mg)"
   ]
  },
  {
   "cell_type": "code",
   "execution_count": null,
   "metadata": {},
   "outputs": [],
   "source": [
    "# Call an instance of the class in magnetic \n",
    "mag = mg.MagneticField2D()\n",
    "\n"
   ]
  }
 ],
 "metadata": {
  "kernelspec": {
   "display_name": "py39",
   "language": "python",
   "name": "python3"
  },
  "language_info": {
   "codemirror_mode": {
    "name": "ipython",
    "version": 3
   },
   "file_extension": ".py",
   "mimetype": "text/x-python",
   "name": "python",
   "nbconvert_exporter": "python",
   "pygments_lexer": "ipython3",
   "version": "3.9.21"
  }
 },
 "nbformat": 4,
 "nbformat_minor": 2
}
