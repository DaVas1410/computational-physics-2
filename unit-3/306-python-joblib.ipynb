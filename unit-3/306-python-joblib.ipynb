{
 "cells": [
  {
   "cell_type": "markdown",
   "metadata": {},
   "source": [
    "# Using joblib\n",
    "\n",
    "\n",
    "In Python, there are also other third-party packages that can make the parallel computing easier, especially for some daily tasks.\n",
    "\n",
    "**joblib** is one of them, it provides an easy simple way to do parallel computing (it has many other usages as well). \n",
    "\n",
    "\n",
    "#### See documentation:\n",
    "\n",
    "https://joblib.readthedocs.io/en/latest/index.html\n",
    "\n",
    "First you need to install it by running \n",
    "\n",
    "```python\n",
    "conda install joblib\n",
    "```\n",
    "\n",
    "Or:\n",
    "\n",
    "```python\n",
    "pip install joblib\n",
    "```\n",
    "\n",
    "Let's see how can we run the previous example using this new package. \n",
    "\n",
    "\n",
    "### joblib classes and functions for parallelisation:\n",
    "\n",
    "\n",
    "The **Parallel** is a helper class that essentially provides a convenient interface for the **multiprocessing** module we saw before. **Parallel:** creates the object responsible for managing the parallel execution. The Parallel object receives this sequence of \"delayed\" objects.\n",
    "\n",
    "The **delayed** is used to capture the arguments of the target function, in this case, the **random_square**. We run the above code with 2 cores. **delayed:** acts as a function decorator, which transforms a function call into a \"lazy object\" deferring their execution until later. It avoids unnecessary computations until they are actually needed. The generator expression (delayed(matrix_op.matrix_op)(i) for i in range(1000000)) creates a sequence of these \"delayed\" objects.\n",
    "\n",
    "\n",
    "### Notes on usage:\n",
    "\n",
    "If you want to use all of the computational power on your machine. You can use all cores on your machine by setting *n\\_jobs=-1*.\n",
    "\n",
    "\n",
    "If you set it to -2, all CPUs but one are used. \n",
    "\n",
    "\n",
    "Besides, you can turn on the **verbose** argument to output the status messages. "
   ]
  },
  {
   "cell_type": "code",
   "execution_count": 1,
   "metadata": {},
   "outputs": [],
   "source": [
    "# Import \n",
    "from joblib import Parallel, delayed, cpu_count\n",
    "import numpy as np\n",
    "import time\n",
    "import random_square"
   ]
  },
  {
   "cell_type": "code",
   "execution_count": 2,
   "metadata": {},
   "outputs": [
    {
     "name": "stdout",
     "output_type": "stream",
     "text": [
      "Number of CPU cores: 14\n"
     ]
    }
   ],
   "source": [
    "n_cpu = cpu_count()\n",
    "\n",
    "print(f\"Number of CPU cores: {n_cpu}\")"
   ]
  },
  {
   "cell_type": "markdown",
   "metadata": {},
   "source": [
    "### Runnning on 1 core:"
   ]
  },
  {
   "cell_type": "code",
   "execution_count": 3,
   "metadata": {},
   "outputs": [
    {
     "ename": "NameError",
     "evalue": "name 'matrix_op' is not defined",
     "output_type": "error",
     "traceback": [
      "\u001b[0;31m---------------------------------------------------------------------------\u001b[0m",
      "\u001b[0;31mNameError\u001b[0m                                 Traceback (most recent call last)",
      "Cell \u001b[0;32mIn[3], line 4\u001b[0m\n\u001b[1;32m      1\u001b[0m \u001b[38;5;66;03m# Time stamp at the beginning of the execution\u001b[39;00m\n\u001b[1;32m      2\u001b[0m start \u001b[38;5;241m=\u001b[39m time\u001b[38;5;241m.\u001b[39mtime()\n\u001b[0;32m----> 4\u001b[0m results \u001b[38;5;241m=\u001b[39m \u001b[43mParallel\u001b[49m\u001b[43m(\u001b[49m\u001b[43mn_jobs\u001b[49m\u001b[43m \u001b[49m\u001b[38;5;241;43m=\u001b[39;49m\u001b[43m \u001b[49m\u001b[38;5;241;43m1\u001b[39;49m\u001b[43m)\u001b[49m\u001b[43m(\u001b[49m\u001b[43mdelayed\u001b[49m\u001b[43m(\u001b[49m\u001b[43mmatrix_op\u001b[49m\u001b[38;5;241;43m.\u001b[39;49m\u001b[43mmatrix_op\u001b[49m\u001b[43m)\u001b[49m\u001b[43m(\u001b[49m\u001b[43mi\u001b[49m\u001b[43m)\u001b[49m\u001b[43m \u001b[49m\u001b[38;5;28;43;01mfor\u001b[39;49;00m\u001b[43m \u001b[49m\u001b[43mi\u001b[49m\u001b[43m \u001b[49m\u001b[38;5;129;43;01min\u001b[39;49;00m\u001b[43m \u001b[49m\u001b[38;5;28;43mrange\u001b[39;49m\u001b[43m(\u001b[49m\u001b[38;5;241;43m1000000\u001b[39;49m\u001b[43m)\u001b[49m\u001b[43m)\u001b[49m\n\u001b[1;32m      6\u001b[0m \u001b[38;5;66;03m# Time stamp at the end of the execution\u001b[39;00m\n\u001b[1;32m      7\u001b[0m end \u001b[38;5;241m=\u001b[39m time\u001b[38;5;241m.\u001b[39mtime()\n",
      "File \u001b[0;32m/opt/anaconda3/envs/py39/lib/python3.9/site-packages/joblib/parallel.py:1918\u001b[0m, in \u001b[0;36mParallel.__call__\u001b[0;34m(self, iterable)\u001b[0m\n\u001b[1;32m   1916\u001b[0m     output \u001b[38;5;241m=\u001b[39m \u001b[38;5;28mself\u001b[39m\u001b[38;5;241m.\u001b[39m_get_sequential_output(iterable)\n\u001b[1;32m   1917\u001b[0m     \u001b[38;5;28mnext\u001b[39m(output)\n\u001b[0;32m-> 1918\u001b[0m     \u001b[38;5;28;01mreturn\u001b[39;00m output \u001b[38;5;28;01mif\u001b[39;00m \u001b[38;5;28mself\u001b[39m\u001b[38;5;241m.\u001b[39mreturn_generator \u001b[38;5;28;01melse\u001b[39;00m \u001b[38;5;28;43mlist\u001b[39;49m\u001b[43m(\u001b[49m\u001b[43moutput\u001b[49m\u001b[43m)\u001b[49m\n\u001b[1;32m   1920\u001b[0m \u001b[38;5;66;03m# Let's create an ID that uniquely identifies the current call. If the\u001b[39;00m\n\u001b[1;32m   1921\u001b[0m \u001b[38;5;66;03m# call is interrupted early and that the same instance is immediately\u001b[39;00m\n\u001b[1;32m   1922\u001b[0m \u001b[38;5;66;03m# re-used, this id will be used to prevent workers that were\u001b[39;00m\n\u001b[1;32m   1923\u001b[0m \u001b[38;5;66;03m# concurrently finalizing a task from the previous call to run the\u001b[39;00m\n\u001b[1;32m   1924\u001b[0m \u001b[38;5;66;03m# callback.\u001b[39;00m\n\u001b[1;32m   1925\u001b[0m \u001b[38;5;28;01mwith\u001b[39;00m \u001b[38;5;28mself\u001b[39m\u001b[38;5;241m.\u001b[39m_lock:\n",
      "File \u001b[0;32m/opt/anaconda3/envs/py39/lib/python3.9/site-packages/joblib/parallel.py:1844\u001b[0m, in \u001b[0;36mParallel._get_sequential_output\u001b[0;34m(self, iterable)\u001b[0m\n\u001b[1;32m   1841\u001b[0m \u001b[38;5;28;01myield\u001b[39;00m \u001b[38;5;28;01mNone\u001b[39;00m\n\u001b[1;32m   1843\u001b[0m \u001b[38;5;66;03m# Sequentially call the tasks and yield the results.\u001b[39;00m\n\u001b[0;32m-> 1844\u001b[0m \u001b[38;5;28;01mfor\u001b[39;00m func, args, kwargs \u001b[38;5;129;01min\u001b[39;00m iterable:\n\u001b[1;32m   1845\u001b[0m     \u001b[38;5;28mself\u001b[39m\u001b[38;5;241m.\u001b[39mn_dispatched_batches \u001b[38;5;241m+\u001b[39m\u001b[38;5;241m=\u001b[39m \u001b[38;5;241m1\u001b[39m\n\u001b[1;32m   1846\u001b[0m     \u001b[38;5;28mself\u001b[39m\u001b[38;5;241m.\u001b[39mn_dispatched_tasks \u001b[38;5;241m+\u001b[39m\u001b[38;5;241m=\u001b[39m \u001b[38;5;241m1\u001b[39m\n",
      "Cell \u001b[0;32mIn[3], line 4\u001b[0m, in \u001b[0;36m<genexpr>\u001b[0;34m(.0)\u001b[0m\n\u001b[1;32m      1\u001b[0m \u001b[38;5;66;03m# Time stamp at the beginning of the execution\u001b[39;00m\n\u001b[1;32m      2\u001b[0m start \u001b[38;5;241m=\u001b[39m time\u001b[38;5;241m.\u001b[39mtime()\n\u001b[0;32m----> 4\u001b[0m results \u001b[38;5;241m=\u001b[39m Parallel(n_jobs \u001b[38;5;241m=\u001b[39m \u001b[38;5;241m1\u001b[39m)(delayed(\u001b[43mmatrix_op\u001b[49m\u001b[38;5;241m.\u001b[39mmatrix_op)(i) \u001b[38;5;28;01mfor\u001b[39;00m i \u001b[38;5;129;01min\u001b[39;00m \u001b[38;5;28mrange\u001b[39m(\u001b[38;5;241m1000000\u001b[39m))\n\u001b[1;32m      6\u001b[0m \u001b[38;5;66;03m# Time stamp at the end of the execution\u001b[39;00m\n\u001b[1;32m      7\u001b[0m end \u001b[38;5;241m=\u001b[39m time\u001b[38;5;241m.\u001b[39mtime()\n",
      "\u001b[0;31mNameError\u001b[0m: name 'matrix_op' is not defined"
     ]
    }
   ],
   "source": [
    "# Time stamp at the beginning of the execution\n",
    "start = time.time()\n",
    "\n",
    "results = Parallel(n_jobs = 1)(delayed(matrix_op.matrix_op)(i) for i in range(1000000))\n",
    "\n",
    "# Time stamp at the end of the execution\n",
    "end = time.time()\n",
    "\n",
    "# Print execution\n",
    "print(end - start)"
   ]
  },
  {
   "cell_type": "markdown",
   "metadata": {},
   "source": [
    "### Runnning on 2 cores:"
   ]
  },
  {
   "cell_type": "code",
   "execution_count": null,
   "metadata": {},
   "outputs": [],
   "source": [
    "# Time stamp at the beginning of the execution\n",
    "start = time.time()\n",
    "\n",
    "results = Parallel(n_jobs = 2)(delayed(matrix_op.matrix_op)(i) for i in range(1000000))\n",
    "\n",
    "# Time stamp at the end of the execution\n",
    "end = time.time()\n",
    "\n",
    "# Print execution\n",
    "print(end - start)"
   ]
  },
  {
   "cell_type": "markdown",
   "metadata": {},
   "source": [
    "### Runnning on 4 cores:"
   ]
  },
  {
   "cell_type": "code",
   "execution_count": null,
   "metadata": {},
   "outputs": [],
   "source": [
    "# Time stamp at the beginning of the execution\n",
    "start = time.time()\n",
    "\n",
    "results = Parallel(n_jobs = 4)(delayed(matrix_op.matrix_op)(i) for i in range(1000000))\n",
    "\n",
    "# Time stamp at the end of the execution\n",
    "end = time.time()\n",
    "\n",
    "# Print execution\n",
    "print(end - start)"
   ]
  },
  {
   "cell_type": "markdown",
   "metadata": {},
   "source": [
    "### Runnning on all CPU cores:"
   ]
  },
  {
   "cell_type": "code",
   "execution_count": null,
   "metadata": {},
   "outputs": [],
   "source": [
    "# Get cpu cores:\n",
    "n_cpu = cpu_count()\n",
    "\n",
    "# Time stamp\n",
    "start = time.time()\n",
    "\n",
    "# Call joblib\n",
    "Parallel(n_jobs = n_cpu)(delayed(matrix_op.matrix_op)(i) for i in range(1000000))\n",
    "\n",
    "# Time stamp\n",
    "end = time.time()\n",
    "\n",
    "# Print execution\n",
    "print(end - start)"
   ]
  },
  {
   "cell_type": "markdown",
   "metadata": {},
   "source": [
    "## Visualise the execution time for different number of CPU cores:\n",
    "\n",
    "Let's visualise the execution time changes versus the number of data points using both the serial and parallel version.\n",
    "\n",
    "We will see that until certain point, it is better to use the serial version. "
   ]
  },
  {
   "cell_type": "code",
   "execution_count": null,
   "metadata": {},
   "outputs": [],
   "source": [
    "import matplotlib.pyplot as plt"
   ]
  },
  {
   "cell_type": "code",
   "execution_count": null,
   "metadata": {},
   "outputs": [],
   "source": [
    "# Serial function\n",
    "def serial(n):\n",
    "    \"\"\"\n",
    "    Function for serial execution.\n",
    "    \"\"\"\n",
    "    # Time stamp\n",
    "    start = time.time()\n",
    "    results = []\n",
    "\n",
    "    # Loop\n",
    "    for i in range(n):\n",
    "        results.append(matrix_op.matrix_op(i))\n",
    "\n",
    "    # Time stamp\n",
    "    end = time.time()\n",
    "    exec_time = end - start\n",
    "\n",
    "    return exec_time\n",
    "\n",
    "# Parallel function\n",
    "def parallel(n, n_cpu):\n",
    "    \"\"\"\n",
    "    Function for parallel execution.\n",
    "    Inputs: n -> # instances\n",
    "    Outputs: n_cpu -> # of cores\n",
    "    \"\"\"\n",
    "    # Time stamp\n",
    "    start = time.time()\n",
    "\n",
    "    # Call joblib\n",
    "    Parallel(n_jobs = n_cpu)(delayed(matrix_op.matrix_op)(i) for i in range(n))\n",
    "\n",
    "    # Time stamp\n",
    "    end = time.time()\n",
    "    exec_time = end - start\n",
    "\n",
    "    return exec_time"
   ]
  },
  {
   "cell_type": "markdown",
   "metadata": {},
   "source": [
    "### Running on all the CPU cores:"
   ]
  },
  {
   "cell_type": "code",
   "execution_count": null,
   "metadata": {},
   "outputs": [],
   "source": [
    "# Generate numbers in log-space:\n",
    "n_run = np.logspace(1, 7, num = 7)\n",
    "\n",
    "n_cpu = cpu_count()\n",
    "#print(n_run)\n",
    "\n",
    "# Call functions for each n_run[i]\n",
    "t_serial = np.array([serial(int(n)) for n in n_run])\n",
    "t_parallel = np.array([parallel(int(n), n_cpu) for n in n_run])\n",
    "\n",
    "# Check outputs\n",
    "#print(t_serial)\n",
    "#print(t_parallel)"
   ]
  },
  {
   "cell_type": "code",
   "execution_count": null,
   "metadata": {},
   "outputs": [],
   "source": [
    "plt.figure(figsize = (11, 3))\n",
    "\n",
    "plt.title(f\"For {n_cpu} cores\")\n",
    "plt.plot(n_run, t_serial, '-o', color = \"red\", label = 'serial')\n",
    "plt.plot(n_run, t_parallel, '-o', color = \"green\", label = 'parallel')\n",
    "\n",
    "plt.loglog()\n",
    "plt.legend()\n",
    "\n",
    "plt.ylabel('Execution time (s)')\n",
    "plt.xlabel('Number of random points')\n",
    "\n",
    "plt.show()"
   ]
  },
  {
   "cell_type": "code",
   "execution_count": null,
   "metadata": {},
   "outputs": [],
   "source": [
    "# Generate numbers in log-space:\n",
    "n_run = np.logspace(1, 7, num = 7)\n",
    "\n",
    "n_cpu = 4\n",
    "#print(n_run)\n",
    "\n",
    "# Call functions for each n_run[i]\n",
    "t_serial = np.array([serial(int(n)) for n in n_run])\n",
    "t_parallel = np.array([parallel(int(n), n_cpu) for n in n_run])\n",
    "\n",
    "# Check outputs\n",
    "#print(t_serial)\n",
    "#print(t_parallel)"
   ]
  },
  {
   "cell_type": "code",
   "execution_count": null,
   "metadata": {},
   "outputs": [],
   "source": [
    "plt.figure(figsize = (11, 3))\n",
    "\n",
    "plt.title(f\"For {n_cpu} cores\")\n",
    "plt.plot(n_run, t_serial, '-o', color = \"red\", label = 'serial')\n",
    "plt.plot(n_run, t_parallel, '-o', color = \"green\", label = 'parallel')\n",
    "\n",
    "plt.loglog()\n",
    "plt.legend()\n",
    "\n",
    "plt.ylabel('Execution time (s)')\n",
    "plt.xlabel('Number of random points')\n",
    "\n",
    "plt.show()"
   ]
  },
  {
   "cell_type": "markdown",
   "metadata": {},
   "source": [
    "## Running multiprocessing tests on the HPC Cedia Cluster\n",
    "\n",
    "The script below should be edited/scp into the HPC Cedia Cluster to test parallelisation performance there. The script returns a figure and also the data to make the figure in a CSV file.\n",
    "\n",
    "\n",
    "### Python Script:\n",
    "\n",
    "```bash\n",
    "vim test_jl.py\n",
    "```\n",
    "\n",
    "```Python\n",
    "\"\"\"\n",
    "Script to compute execution times.\n",
    "\"\"\"\n",
    "# Import libraries\n",
    "import time\n",
    "import csv\n",
    "import numpy as np\n",
    "import matplotlib.pyplot as plt\n",
    "from joblib import Parallel, delayed\n",
    "import random_square\n",
    "\n",
    "# Serial function\n",
    "def serial(n):\n",
    "    \"\"\"\n",
    "    Function for serial execution.\n",
    "    \"\"\"\n",
    "    # Time stamp\n",
    "    start = time.time()\n",
    "    results = []\n",
    "\n",
    "    # Loop\n",
    "    for i in range(n):\n",
    "        results.append(matrix_op.matrix_op(i))\n",
    "\n",
    "    # Time stamp\n",
    "    end = time.time()\n",
    "    exec_time = end - start\n",
    "\n",
    "    return exec_time\n",
    "\n",
    "# Parallel function\n",
    "def parallel(n, n_cpu):\n",
    "    \"\"\"\n",
    "    Function for parallel execution.\n",
    "    Inputs: n -> # instances\n",
    "    Outputs: n_cpu -> # of cores\n",
    "    \"\"\"\n",
    "    # Time stamp\n",
    "    start = time.time()\n",
    "\n",
    "    # Call joblib\n",
    "    Parallel(n_jobs = n_cpu)(delayed(matrix_op.matrix_op)(i) for i in range(n))\n",
    "\n",
    "    # Time stamp\n",
    "    end = time.time()\n",
    "    exec_time = end - start\n",
    "\n",
    "    return exec_time\n",
    "\n",
    "# Generate numbers in log-space:\n",
    "n_run = np.logspace(1, 7, num = 7)\n",
    "\n",
    "# Call functions for each n_run[i]\n",
    "\n",
    "t_serial = np.array([serial(int(n)) for n in n_run])\n",
    "\n",
    "t_parallel_n02 = np.array([parallel(int(n), 2) for n in n_run])\n",
    "t_parallel_n04 = np.array([parallel(int(n), 4) for n in n_run])\n",
    "t_parallel_n08 = np.array([parallel(int(n), 8) for n in n_run])\n",
    "t_parallel_n16 = np.array([parallel(int(n), 16) for n in n_run])\n",
    "\n",
    "# Plotting\n",
    "plt.figure(figsize = (9, 5))\n",
    "\n",
    "plt.plot(n_run, t_serial, '-o', color = \"red\", label = 'serial')\n",
    "plt.plot(n_run, t_parallel_n02, '-o', color = \"green\", label = 'parallel: n=2')\n",
    "plt.plot(n_run, t_parallel_n04, '-o', color = \"blue\", label = 'parallel: n=4')\n",
    "plt.plot(n_run, t_parallel_n08, '-o', color = \"magenta\", label = 'parallel: n=8')\n",
    "plt.plot(n_run, t_parallel_n16, '-o', color = \"brown\", label = 'parallel: n=16')\n",
    "\n",
    "plt.loglog()\n",
    "plt.legend()\n",
    "\n",
    "plt.ylabel('Execution time (s)')\n",
    "plt.xlabel('Number of random points')\n",
    "\n",
    "plt.savefig(\"hpc_cedia_jl.png\")\n",
    "plt.close()\n",
    "\n",
    "# Saving execution data in a CSV file\n",
    "with open(\"hpc_cedia_jl.csv\", \"w\", newline=\"\") as csvfile:\n",
    "    writer = csv.writer(csvfile)\n",
    "    # Header row\n",
    "    writer.writerow([\"n_run\", \"serial\", \"parallel_2\", \"parallel_4\", \"parallel_8\", \"parallel_16\"])\n",
    "    # Data row\n",
    "    for j in range(len(n_run)):\n",
    "        writer.writerow([n_run[j], t_serial[j], t_parallel_n02[j], t_parallel_n04[j],\\\n",
    "                       t_parallel_n08[j], t_parallel_n16[j]])\n",
    "```\n",
    "\n",
    "\n",
    "\n",
    "### Batch script:\n",
    "\n",
    "Adjust the resources as needed:\n",
    "\n",
    "```bash\n",
    "vim job_jl.py\n",
    "```\n",
    "\n",
    "```bash\n",
    "#!/bin/bash\n",
    "#SBATCH --job-name=job_jl\n",
    "#SBATCH --partition=cpu\n",
    "#SBATCH --time=00:05:00\n",
    "#SBATCH --cpus-per-task=16\n",
    "#SBATCH --mem=1G\n",
    "#SBATCH --output=job_jl.out\n",
    "#SBATCH --error=job_jl.err\n",
    "\n",
    "# Your commands go here\n",
    "source ~/.bashrc\n",
    "conda activate py310\n",
    "python test_jl.py\n",
    "```\n",
    "\n",
    "### Batch job submission:\n",
    "```bash\n",
    "sbatch job_jl.py\n",
    "```\n",
    "\n",
    "### Results:\n",
    "The figure I obtained can be seen here:\n",
    "\n",
    "https://github.com/wbandabarragan/computational-physics-2/blob/main/unit-3/hpc_cedia_jl.png\n",
    "\n",
    "There is not much some speed gain in distributing the tasks among more CPU cores. The problem is too small.\n",
    "\n",
    "Alternatively, we can also look at the CSV file and plot locally."
   ]
  },
  {
   "cell_type": "code",
   "execution_count": null,
   "metadata": {},
   "outputs": [],
   "source": [
    "import pandas as pd"
   ]
  },
  {
   "cell_type": "code",
   "execution_count": null,
   "metadata": {},
   "outputs": [],
   "source": [
    "# Read execution data\n",
    "df = pd.read_csv(\"./hpc_cedia_jl.csv\")\n",
    "#print(df)\n",
    "\n",
    "n_run = np.array(df[\"n_run\"])\n",
    "t_serial = np.array(df[\"serial\"])\n",
    "t_parallel_n02 = np.array(df[\"parallel_2\"])\n",
    "t_parallel_n04 = np.array(df[\"parallel_4\"])\n",
    "t_parallel_n08 = np.array(df[\"parallel_8\"])\n",
    "t_parallel_n16 = np.array(df[\"parallel_16\"])\n",
    "\n",
    "# Plotting\n",
    "plt.figure(figsize = (11, 3))\n",
    "plt.title(\"HPC Cedia Parallelisation: JobLib\")\n",
    "plt.plot(n_run, t_serial, '-o', color = \"red\", label = 'serial')\n",
    "plt.plot(n_run, t_parallel_n02, '-o', color = \"green\", label = 'parallel: n=2')\n",
    "plt.plot(n_run, t_parallel_n04, '-o', color = \"blue\", label = 'parallel: n=4')\n",
    "plt.plot(n_run, t_parallel_n08, '-o', color = \"magenta\", label = 'parallel: n=8')\n",
    "plt.plot(n_run, t_parallel_n16, '-o', color = \"brown\", label = 'parallel: n=16')\n",
    "\n",
    "plt.loglog()\n",
    "plt.legend()\n",
    "\n",
    "plt.ylabel('Execution time (s)')\n",
    "plt.xlabel('Number of random points')\n",
    "\n",
    "plt.show()\n"
   ]
  },
  {
   "cell_type": "markdown",
   "metadata": {},
   "source": [
    "## Joblib Backends\n",
    "\n",
    "There are multiple backends in **joblib**, which means using different ways to do the parallel computing:\n",
    "\n",
    "### 1. loky (Default Backend):\n",
    "\n",
    "- loky is the default backend for joblib.\n",
    "- loky is good at handling large NumPy arrays and complex data structures.\n",
    "\n",
    "\n",
    "### 2. multiprocessing:\n",
    "\n",
    "- You can explicitly tell joblib to use the standard Python multiprocessing module.\n",
    "\n",
    "- This can be helpful if you need to use features that are specific to multiprocessing.\n",
    "\n",
    "\n",
    "### 3. threading:\n",
    "\n",
    "- joblib can also use threads for parallel execution. It can be useful for I/O-bound tasks, where threads can release the GIL while waiting for I/O operations.\n",
    "\n",
    "- This is generally not recommended for CPU-bound tasks, as Python's Global Interpreter Lock (GIL) prevents true parallelism in CPU-bound Python threads.\n"
   ]
  },
  {
   "cell_type": "code",
   "execution_count": null,
   "metadata": {},
   "outputs": [],
   "source": [
    "# Example using loky (default)\n",
    "start = time.time()\n",
    "results_loky = Parallel(n_jobs=4, backend='loky')(delayed(matrix_op.matrix_op)(i) for i in range(1000000))\n",
    "end = time.time()\n",
    "print(\"Loky time is: \", end - start)\n",
    "\n",
    "# Example using multiprocessing\n",
    "start = time.time()\n",
    "results_mp = Parallel(n_jobs=4, backend='multiprocessing')(delayed(matrix_op.matrix_op)(i) for i in range(1000000))\n",
    "end = time.time()\n",
    "print(\"Multiprocessing time is: \", end - start)\n",
    "\n",
    "# Example using threading -> Very bad performance\n",
    "start = time.time()\n",
    "results_threading = Parallel(n_jobs=4, backend='threading')(delayed(matrix_op.matrix_op)(i) for i in range(1000000))\n",
    "end = time.time()\n",
    "print(\"Threading time is: \", end - start)"
   ]
  },
  {
   "cell_type": "markdown",
   "metadata": {},
   "source": [
    "## Example: Matrix multiplication"
   ]
  },
  {
   "cell_type": "code",
   "execution_count": 7,
   "metadata": {},
   "outputs": [],
   "source": [
    "# Import our new module\n",
    "import matrix_op "
   ]
  },
  {
   "cell_type": "code",
   "execution_count": 8,
   "metadata": {},
   "outputs": [],
   "source": [
    "# Start time stamp\n",
    "start = time.time()\n",
    "\n",
    "# Empty list to store the output matrices\n",
    "mat_out = []\n",
    "\n",
    "# Call our module\n",
    "for j in range(100000):\n",
    "    mat_out.append(matrix_op.matrix_op(j))\n",
    "    \n",
    "# End time stamp\n",
    "end = time.time()"
   ]
  },
  {
   "cell_type": "code",
   "execution_count": 9,
   "metadata": {},
   "outputs": [
    {
     "name": "stdout",
     "output_type": "stream",
     "text": [
      "Execution time on 1 processor is: 0.7368719577789307\n"
     ]
    }
   ],
   "source": [
    "print(f\"Execution time on 1 processor is: {end-start}\")"
   ]
  },
  {
   "cell_type": "markdown",
   "metadata": {},
   "source": [
    "### Run with multiprocessing:"
   ]
  },
  {
   "cell_type": "code",
   "execution_count": 14,
   "metadata": {},
   "outputs": [],
   "source": [
    "import multiprocessing as mp\n",
    "import matplotlib.pyplot as plt"
   ]
  },
  {
   "cell_type": "code",
   "execution_count": 15,
   "metadata": {},
   "outputs": [],
   "source": [
    "# Serial function\n",
    "def serial(n):\n",
    "    \"\"\"\n",
    "    Function for serial execution.\n",
    "    \"\"\"\n",
    "    # Time stamp\n",
    "    start = time.time()\n",
    "    results = []\n",
    "\n",
    "    # Loop\n",
    "    for i in range(n):\n",
    "        results.append(matrix_op.matrix_op(i))\n",
    "\n",
    "    # Time stamp\n",
    "    end = time.time()\n",
    "    exec_time = end - start\n",
    "\n",
    "    return exec_time\n",
    "\n",
    "# Parallel function\n",
    "def parallel(n, n_cpu):\n",
    "    \"\"\"\n",
    "    Function for parallel execution.\n",
    "    Inputs: n -> # instances\n",
    "    Outputs: n_cpu -> # of cores\n",
    "    \"\"\"\n",
    "    # Time stamp\n",
    "    start = time.time()\n",
    "\n",
    "    # Call multiprocessing Pool -> Create processes\n",
    "    pool = mp.Pool(processes=n_cpu)\n",
    "\n",
    "    # Allocate tasks into the pool\n",
    "    results = [pool.map(matrix_op.matrix_op, range(n))]\n",
    "\n",
    "    # Time stamp\n",
    "    end = time.time()\n",
    "    exec_time = end - start\n",
    "\n",
    "    return exec_time\n"
   ]
  },
  {
   "cell_type": "code",
   "execution_count": 20,
   "metadata": {},
   "outputs": [],
   "source": [
    "# Generate numbers in log-space:\n",
    "n_run = np.logspace(1, 7, num = 7)\n",
    "\n",
    "n_cpu = 4\n",
    "#print(n_run)\n",
    "\n",
    "# Call functions for each n_run[i]\n",
    "t_serial = np.array([serial(int(n)) for n in n_run])\n",
    "t_parallel = np.array([parallel(int(n), n_cpu) for n in n_run])\n"
   ]
  },
  {
   "cell_type": "code",
   "execution_count": 21,
   "metadata": {},
   "outputs": [
    {
     "data": {
      "image/png": "[encoded data removed]",
      "text/plain": [
       "<Figure size 1100x300 with 1 Axes>"
      ]
     },
     "metadata": {},
     "output_type": "display_data"
    }
   ],
   "source": [
    "plt.figure(figsize = (11, 3))\n",
    "\n",
    "plt.title(f\"For {n_cpu} cores\")\n",
    "plt.plot(n_run, t_serial, '-o', color = \"red\", label = 'serial')\n",
    "plt.plot(n_run, t_parallel, '-o', color = \"green\", label = 'parallel')\n",
    "\n",
    "plt.loglog()\n",
    "plt.legend()\n",
    "\n",
    "plt.ylabel('Execution time (s)')\n",
    "plt.xlabel('Number of random points')\n",
    "\n",
    "plt.show()"
   ]
  },
  {
   "cell_type": "code",
   "execution_count": null,
   "metadata": {},
   "outputs": [],
   "source": []
  }
 ],
 "metadata": {
  "kernelspec": {
   "display_name": "Python 3 (ipykernel)",
   "language": "python",
   "name": "python3"
  },
  "language_info": {
   "codemirror_mode": {
    "name": "ipython",
    "version": 3
   },
   "file_extension": ".py",
   "mimetype": "text/x-python",
   "name": "python",
   "nbconvert_exporter": "python",
   "pygments_lexer": "ipython3",
   "version": "3.9.18"
  }
 },
 "nbformat": 4,
 "nbformat_minor": 4
}
