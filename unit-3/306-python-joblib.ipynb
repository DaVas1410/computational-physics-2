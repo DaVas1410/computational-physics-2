{
 "cells": [
  {
   "cell_type": "markdown",
   "metadata": {},
   "source": [
    "# Multiprocessing:\n",
    "\n",
    "The **multiprocessing library** is Python's standard library to support parallel computing using processes.\n",
    "\n",
    "See documentation here:\n",
    "\n",
    "https://docs.python.org/3/library/multiprocessing.html"
   ]
  },
  {
   "cell_type": "code",
   "execution_count": 1,
   "metadata": {},
   "outputs": [],
   "source": [
    "import multiprocessing as mp"
   ]
  },
  {
   "cell_type": "markdown",
   "metadata": {},
   "source": [
    "Let's first print out the total number of CPUs that on my machine that can be used for parallel computing."
   ]
  },
  {
   "cell_type": "code",
   "execution_count": 2,
   "metadata": {},
   "outputs": [
    {
     "name": "stdout",
     "output_type": "stream",
     "text": [
      "Number of CPU cores: 14\n"
     ]
    }
   ],
   "source": [
    "print(f\"Number of CPU cores: {mp.cpu_count()}\")"
   ]
  },
  {
   "cell_type": "markdown",
   "metadata": {},
   "source": [
    "Let's use an example to show you how to use multiple cores in one machine to reduce the time of execution time. \n",
    "\n",
    "### Example 1:\n",
    "\n",
    "The script below generates $10^7$ random numbers between $0$ and $10$ and square the numbers\n",
    "\n",
    "You can edit the file with ```vim``` into your workig directory, or download it from the repository:\n",
    "\n",
    "https://github.com/wbandabarragan/computational-physics-2/blob/main/unit-3/random_square.py\n",
    "\n",
    "```bash\n",
    "vim random_square.py \n",
    "```\n",
    "\n",
    "```Python\n",
    "#!/opt/anaconda3/envs/py39/bin/python\n",
    "\"\"\"\n",
    "Script to generate 10 million random numbers.\n",
    "\"\"\"\n",
    "# Import modules\n",
    "import numpy as np\n",
    "\n",
    "# Random number function\n",
    "def random_square(seed):\n",
    "    \"\"\"\n",
    "    Square a random number generated witn an input seed.\n",
    "    \"\"\"\n",
    "    # Allocate seed\n",
    "    np.random.seed(seed)\n",
    "\n",
    "    # Generate random number\n",
    "    random_num = np.random.randint(0, 10)\n",
    "\n",
    "    # Return squared values\n",
    "    return random_num**2\n",
    "```\n",
    "\n"
   ]
  },
  {
   "cell_type": "markdown",
   "metadata": {},
   "source": [
    "#### A) Serial version:\n",
    "\n",
    "We call the script in a ```for``` loop for range(100000):"
   ]
  },
  {
   "cell_type": "code",
   "execution_count": 5,
   "metadata": {},
   "outputs": [],
   "source": [
    "# Import libraries\n",
    "import numpy as np\n",
    "import time\n",
    "\n",
    "# Import our own module\n",
    "import random_square"
   ]
  },
  {
   "cell_type": "code",
   "execution_count": 9,
   "metadata": {},
   "outputs": [
    {
     "name": "stdout",
     "output_type": "stream",
     "text": [
      "Serial execution time is 22.50039768218994 s\n"
     ]
    }
   ],
   "source": [
    "# Timing the code\n",
    "start = time.time()\n",
    "\n",
    "# Empty  list for results \n",
    "results = []\n",
    "\n",
    "# Loop up to 10^7\n",
    "for i in range(10000000): \n",
    "    results.append(random_square.random_square(i))\n",
    "\n",
    "# Finish timing code\n",
    "end = time.time()\n",
    "\n",
    "# Serial execution time\n",
    "t_serial = end - start\n",
    "\n",
    "print(f'Serial execution time is {t_serial} s')"
   ]
  },
  {
   "cell_type": "markdown",
   "metadata": {},
   "source": [
    "#### B) Parallel version\n",
    "\n",
    "The simplest way to do parallel computing using the multiprocessing is to use the **Pool** class.\n",
    "\n",
    "See documentation:\n",
    "\n",
    "https://superfastpython.com/multiprocessing-pool-map/\n",
    "\n",
    "https://docs.python.org/3/library/multiprocessing.html#multiprocessing.pool.Pool\n",
    "\n",
    "\n",
    "There are 4 common methods in the class that we may use often, that is:\n",
    "\n",
    "1. **apply**, \n",
    "\n",
    "\n",
    "2. **map**, \n",
    "\n",
    "\n",
    "3. **apply_async** and \n",
    "\n",
    "\n",
    "4. **map_async**.\n",
    "\n",
    "Have a look of the documentation for the differences, and we will only use **map** function below to parallel the above example.\n",
    "\n",
    "The **map(func, iterable)** function takes in two arguments, and apply the function **func** to each element in the **iterable**, and then collect the results. "
   ]
  },
  {
   "cell_type": "code",
   "execution_count": 10,
   "metadata": {},
   "outputs": [
    {
     "name": "stdout",
     "output_type": "stream",
     "text": [
      "The number of CPU cores is:  14\n",
      "Serial execution time is 3.081364154815674 s\n"
     ]
    }
   ],
   "source": [
    "# Timing the code\n",
    "start = time.time()\n",
    "\n",
    "# Get number of laptop CPUs\n",
    "n_cpu = mp.cpu_count()\n",
    "print(\"The number of CPU cores is: \", n_cpu)\n",
    "\n",
    "# Call Pool\n",
    "pool = mp.Pool(processes=n_cpu)\n",
    "\n",
    "# Call pool.map(func, iterable)\n",
    "results = [pool.map(random_square.random_square, range(10000000))]\n",
    "\n",
    "# Finish timing code\n",
    "end = time.time()\n",
    "\n",
    "# Serial execution time\n",
    "t_parallel = end - start\n",
    "\n",
    "print(f'Serial execution time is {t_parallel} s')"
   ]
  },
  {
   "cell_type": "markdown",
   "metadata": {},
   "source": [
    "### Code speedup:"
   ]
  },
  {
   "cell_type": "code",
   "execution_count": 14,
   "metadata": {},
   "outputs": [
    {
     "name": "stdout",
     "output_type": "stream",
     "text": [
      "Speedup factor:  7.30208977313683\n",
      "Expected speedup factor:  14.0\n"
     ]
    }
   ],
   "source": [
    "# Speed up\n",
    "\n",
    "print(\"Speedup factor: \", t_serial/t_parallel)\n",
    "print(\"Expected speedup factor: \", n_cpu/1.)"
   ]
  },
  {
   "cell_type": "markdown",
   "metadata": {},
   "source": [
    "#### Notes:\n",
    "\n",
    "- We can see that using the above parallel version of the code, we reduce the run time from 22.50039768218994 s to 3.081364154815674 s. This is a big gain in speed, especially if we have a heavy computation, it will reduce a lot of time by running parallel computing. \n",
    "\n",
    "- The `pool.apply` function is similar except that it can accept more arguments. The `pool.map` and `pool.apply` will lock the main program until all the processes are finished, which is quite useful if we want to obtain results in a particular order for some applications.\n",
    "\n",
    "- In contrast, if we do not need the results in a particular order, we can also use `pool.apply_async` or `pool.map_async`, which will submit all processes at once and retrieve the results as soon as they are finished. Check documentation to learn more. "
   ]
  },
  {
   "cell_type": "markdown",
   "metadata": {},
   "source": [
    "## Visualise the execution time for different number of CPU cores:\n",
    "\n",
    "Let's visualise the execution time changes versus the number of data points using both the serial and parallel version.\n",
    "\n",
    "We will see that until certain point, it is better to use the serial version. "
   ]
  },
  {
   "cell_type": "code",
   "execution_count": 15,
   "metadata": {},
   "outputs": [],
   "source": [
    "import matplotlib.pyplot as plt"
   ]
  },
  {
   "cell_type": "code",
   "execution_count": 16,
   "metadata": {},
   "outputs": [],
   "source": [
    "# Serial function\n",
    "def serial(n):\n",
    "    \"\"\"\n",
    "    Function for serial execution.\n",
    "    \"\"\"\n",
    "    # Time stamp\n",
    "    start = time.time()\n",
    "    results = []\n",
    "\n",
    "    # Loop\n",
    "    for i in range(n):\n",
    "        results.append(random_square.random_square(i))\n",
    "\n",
    "    # Time stamp\n",
    "    end = time.time()\n",
    "    exec_time = end - start\n",
    "\n",
    "    return exec_time\n",
    "\n",
    "# Parallel function\n",
    "def parallel(n, n_cpu):\n",
    "    \"\"\"\n",
    "    Function for parallel execution.\n",
    "    Inputs: n -> # instances\n",
    "    Outputs: n_cpu -> # of cores\n",
    "    \"\"\"\n",
    "    # Time stamp\n",
    "    start = time.time()\n",
    "\n",
    "    # Call multiprocessing Pool -> Create processes\n",
    "    pool = mp.Pool(processes=n_cpu)\n",
    "\n",
    "    # Allocate tasks into the pool\n",
    "    results = [pool.map(random_square.random_square, range(n))]\n",
    "\n",
    "    # Time stamp\n",
    "    end = time.time()\n",
    "    exec_time = end - start\n",
    "\n",
    "    return exec_time"
   ]
  },
  {
   "cell_type": "markdown",
   "metadata": {},
   "source": [
    "## Runninng on all the CPU cores:"
   ]
  },
  {
   "cell_type": "code",
   "execution_count": 18,
   "metadata": {},
   "outputs": [],
   "source": [
    "# Generate numbers in log-space:\n",
    "n_run = np.logspace(1, 7, num = 7)\n",
    "\n",
    "n_cpu = mp.cpu_count()\n",
    "#print(n_run)\n",
    "\n",
    "# Call functions for each n_run[i]\n",
    "t_serial = np.array([serial(int(n)) for n in n_run])\n",
    "t_parallel = np.array([parallel(int(n), n_cpu) for n in n_run])\n",
    "\n",
    "# Check outputs\n",
    "#print(t_serial)\n",
    "#print(t_parallel)"
   ]
  },
  {
   "cell_type": "code",
   "execution_count": 21,
   "metadata": {},
   "outputs": [
    {
     "data": {
      "image/png": "[encoded data removed]",
      "text/plain": [
       "<Figure size 900x500 with 1 Axes>"
      ]
     },
     "metadata": {},
     "output_type": "display_data"
    }
   ],
   "source": [
    "plt.figure(figsize = (9, 5))\n",
    "\n",
    "plt.title(f\"For {n_cpu} cores\")\n",
    "plt.plot(n_run, t_serial, '-o', color = \"red\", label = 'serial')\n",
    "plt.plot(n_run, t_parallel, '-o', color = \"green\", label = 'parallel')\n",
    "\n",
    "plt.loglog()\n",
    "plt.legend()\n",
    "\n",
    "plt.ylabel('Execution time (s)')\n",
    "plt.xlabel('Number of random points')\n",
    "\n",
    "plt.show()"
   ]
  },
  {
   "cell_type": "markdown",
   "metadata": {},
   "source": [
    "## Runninng on all the 4 cores:"
   ]
  },
  {
   "cell_type": "code",
   "execution_count": 22,
   "metadata": {},
   "outputs": [],
   "source": [
    "# Generate numbers in log-space:\n",
    "n_run = np.logspace(1, 7, num = 7)\n",
    "\n",
    "n_cpu = 4 #mp.cpu_count()\n",
    "#print(n_run)\n",
    "\n",
    "# Call functions for each n_run[i]\n",
    "t_serial = np.array([serial(int(n)) for n in n_run])\n",
    "t_parallel = np.array([parallel(int(n), n_cpu) for n in n_run])\n",
    "\n",
    "# Check outputs\n",
    "#print(t_serial)\n",
    "#print(t_parallel)"
   ]
  },
  {
   "cell_type": "code",
   "execution_count": null,
   "metadata": {},
   "outputs": [],
   "source": [
    "plt.figure(figsize = (9, 5))\n",
    "\n",
    "plt.title(f\"For {n_cpu} cores\")\n",
    "plt.plot(n_run, t_serial, '-o', color = \"red\", label = 'serial')\n",
    "plt.plot(n_run, t_parallel, '-o', color = \"green\", label = 'parallel')\n",
    "\n",
    "plt.loglog()\n",
    "plt.legend()\n",
    "\n",
    "plt.ylabel('Execution time (s)')\n",
    "plt.xlabel('Number of random points')\n",
    "\n",
    "plt.show()"
   ]
  },
  {
   "cell_type": "markdown",
   "metadata": {},
   "source": [
    "### Conclusions:\n",
    "\n",
    "- The above times and plots can very from PC to PC depending on the \n",
    "\n",
    "We can see from the figure that when the number of data points are small (below 10000), the execution time for the serial version is faster due to the overheads of the parallel version from launching and maintaining the new processes. But after that, we can see clearly the winner be the parallel version. "
   ]
  },
  {
   "cell_type": "code",
   "execution_count": null,
   "metadata": {},
   "outputs": [],
   "source": []
  },
  {
   "cell_type": "markdown",
   "metadata": {},
   "source": [
    "# Using joblib\n",
    "\n",
    "\n",
    "In Python, there are also other 3rd party packages that can make the parallel computing easier, especially for some daily tasks.\n",
    "\n",
    "**joblib** is one of them, it provides an easy simple way to do parallel computing (it has many other usages as well). \n",
    "\n",
    "\n",
    "#### See documentation:\n",
    "\n",
    "https://joblib.readthedocs.io/en/latest/index.html\n",
    "\n",
    "First you need to install it by running \n",
    "\n",
    "```python\n",
    "conda install joblib\n",
    "```\n",
    "\n",
    "Or:\n",
    "\n",
    "```python\n",
    "pip install joblib\n",
    "```\n",
    "\n",
    "Let's see how can we run the previous example using this new package. "
   ]
  },
  {
   "cell_type": "code",
   "execution_count": null,
   "metadata": {},
   "outputs": [],
   "source": [
    "from joblib import Parallel, delayed\n",
    "\n",
    "import numpy as np\n",
    "import time\n",
    "import random_square"
   ]
  },
  {
   "cell_type": "code",
   "execution_count": null,
   "metadata": {},
   "outputs": [],
   "source": [
    "# Time stamp at the beginning of the execution\n",
    "start = time.time()\n",
    "\n",
    "results = Parallel(n_jobs = 1)(delayed(random_square.random_square)(i) for i in range(1000000))\n",
    "\n",
    "# Time stamp at the end of the execution\n",
    "end = time.time()\n",
    "\n",
    "# Print execution\n",
    "print(end - start)"
   ]
  },
  {
   "cell_type": "code",
   "execution_count": null,
   "metadata": {},
   "outputs": [],
   "source": [
    "# Time stamp at the beginning of the execution\n",
    "start = time.time()\n",
    "\n",
    "results = Parallel(n_jobs = 2)(delayed(random_square.random_square)\\\n",
    "          (i) for i in range(1000000))\n",
    "\n",
    "# Time stamp at the end of the execution\n",
    "end = time.time()\n",
    "\n",
    "# Print execution\n",
    "print(end - start)"
   ]
  },
  {
   "cell_type": "code",
   "execution_count": null,
   "metadata": {},
   "outputs": [],
   "source": [
    "# Time stamp at the beginning of the execution\n",
    "start = time.time()\n",
    "\n",
    "results = Parallel(n_jobs = 4)(delayed(random_square.random_square)\\\n",
    "          (i) for i in range(1000000))\n",
    "\n",
    "# Time stamp at the end of the execution\n",
    "end = time.time()\n",
    "\n",
    "# Print execution\n",
    "print(end - start)"
   ]
  },
  {
   "cell_type": "markdown",
   "metadata": {},
   "source": [
    "We can see the parallel part of the code becomes one line by using the joblib library, which is very convenient.\n",
    "\n",
    "\n",
    "The **Parallel** is a helper class that essentially provides a convenient interface for the **multiprocessing** module we saw before. **Parallel:** creates the object responsible for managing the parallel execution. The Parallel object receives this sequence of \"delayed\" objects.\n",
    "\n",
    "The **delayed** is used to capture the arguments of the target function, in this case, the **random_square**. We run the above code with 2 cores. **delayed:** acts as a function decorator, which transforms a function call into a \"lazy object\" deferring their execution until later. It avoids unnecessary computations until they are actually needed. The generator expression (delayed(random_square.random_square)(i) for i in range(1000000)) creates a sequence of these \"delayed\" objects.\n",
    "\n",
    "\n",
    "### Notes on usage:\n",
    "\n",
    "If you want to use all of the computational power on your machine. You can use all cores on your machine by setting *n\\_jobs=-1*.\n",
    "\n",
    "\n",
    "If you set it to -2, all CPUs but one are used. \n",
    "\n",
    "\n",
    "Besides, you can turn on the **verbose** argument to output the status messages. "
   ]
  },
  {
   "cell_type": "code",
   "execution_count": null,
   "metadata": {},
   "outputs": [],
   "source": [
    "results = Parallel(n_jobs=-1, verbose=1)(delayed(random_square.random_square)(i) for i in range(1000000))"
   ]
  },
  {
   "cell_type": "markdown",
   "metadata": {},
   "source": [
    "### Backends\n",
    "\n",
    "There are multiple backends in **joblib**, which means using different ways to do the parallel computing.\n",
    "\n",
    "If you set the backend as **multiprocessing**, this is actually creating, under the hood, a multiprocessing pool that uses separate Python woker processes to execute tasks concurrently on separate cores. "
   ]
  },
  {
   "cell_type": "code",
   "execution_count": null,
   "metadata": {},
   "outputs": [],
   "source": [
    "results = Parallel(n_jobs=-1, backend='multiprocessing', verbose=1)\\\n",
    "          (delayed(random_square.random_square)(i) for i in range(1000000))"
   ]
  },
  {
   "cell_type": "code",
   "execution_count": null,
   "metadata": {},
   "outputs": [],
   "source": [
    "import numpy as np\n",
    "import time\n",
    "from joblib import Parallel, delayed\n",
    "import multiprocessing as mp\n",
    "\n",
    "def matrix_multiplication_task(seed):\n",
    "    \"\"\"A task involving matrix multiplication.\"\"\"\n",
    "    np.random.seed(seed)\n",
    "    matrix_size = 500  # Adjust for your system's capabilities\n",
    "    matrix1 = np.random.rand(matrix_size, matrix_size)\n",
    "    matrix2 = np.random.rand(matrix_size, matrix_size)\n",
    "    result = np.matmul(matrix1, matrix2)\n",
    "    return np.sum(result)  # Return a scalar to avoid large result transfer\n",
    "\n",
    "def run_serial(n):\n",
    "    start_time = time.time()\n",
    "    results = [matrix_multiplication_task(i) for i in range(n)]\n",
    "    end_time = time.time()\n",
    "    return end_time - start_time\n",
    "\n",
    "def run_joblib(n, n_jobs):\n",
    "    start_time = time.time()\n",
    "    results = Parallel(n_jobs=n_jobs)(delayed(matrix_multiplication_task)(i) for i in range(n))\n",
    "    end_time = time.time()\n",
    "    return end_time - start_time\n",
    "\n",
    "def run_multiprocessing(n, n_processes):\n",
    "    start_time = time.time()\n",
    "    with mp.Pool(processes=n_processes) as pool:\n",
    "        results = pool.map(matrix_multiplication_task, range(n))\n",
    "    end_time = time.time()\n",
    "    return end_time - start_time"
   ]
  },
  {
   "cell_type": "code",
   "execution_count": null,
   "metadata": {},
   "outputs": [],
   "source": [
    "if __name__ == '__main__':\n",
    "    \n",
    "    # Test parameters\n",
    "    n_tasks = 20\n",
    "    n_jobs = 4  # Number of joblib jobs/multiprocessing processes\n",
    "    \n",
    "    # Run and time the functions\n",
    "    serial_time = run_serial(n_tasks)\n",
    "    joblib_time = run_joblib(n_tasks, n_jobs)\n",
    "    multiprocessing_time = run_multiprocessing(n_tasks, n_jobs)\n",
    "    \n",
    "    # Print results\n",
    "    print(f\"Serial time: {serial_time:.4f} seconds\")\n",
    "    print(f\"Joblib time: {joblib_time:.4f} seconds\")\n",
    "    print(f\"Multiprocessing time: {multiprocessing_time:.4f} seconds\")"
   ]
  },
  {
   "cell_type": "code",
   "execution_count": null,
   "metadata": {},
   "outputs": [],
   "source": []
  }
 ],
 "metadata": {
  "kernelspec": {
   "display_name": "Python 3 (ipykernel)",
   "language": "python",
   "name": "python3"
  },
  "language_info": {
   "codemirror_mode": {
    "name": "ipython",
    "version": 3
   },
   "file_extension": ".py",
   "mimetype": "text/x-python",
   "name": "python",
   "nbconvert_exporter": "python",
   "pygments_lexer": "ipython3",
   "version": "3.9.18"
  }
 },
 "nbformat": 4,
 "nbformat_minor": 4
}
