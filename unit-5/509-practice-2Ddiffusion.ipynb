{
 "cells": [
  {
   "cell_type": "markdown",
   "id": "588a211a-ff8e-46cf-937c-9a6b484f15dc",
   "metadata": {},
   "source": [
    "# Practice Problem: Heat Diffusion in 2D\n",
    "\n",
    "Study thermal diffusion in 2D using the **Crank-Nicolson method**. Consider the diffusion of a quantity $u(x, y, t)$ over a two-dimensional spatial domain $ x\\in = [-L_x,+L_x]$ and $y\\in [-L_y,+L_y]$.\n",
    "\n",
    "The governing equation for this process is the 2D diffusion equation:\n",
    "\n",
    "$$\n",
    "\\frac{\\partial u}{\\partial t} = c \\left( \\frac{\\partial^2 u}{\\partial x^2} + \\frac{\\partial^2 u}{\\partial y^2} \\right)\n",
    "$$\n",
    "\n",
    "where $c$ is the diffusion coefficient.\n",
    "\n",
    "At time $t=0$, the quantity $u(x, y, 0)$ is a **square pulse** centered at the origin $(0,0)$ equal to $1.0$ within the region $[-\\frac{L_x}{6}, +\\frac{L_x}{6}] \\times [-\\frac{L_y}{6}, +\\frac{L_y}{6}] $ and $0.0$ everywhere else. Implement fixed **Dirichlet** boundary conditions where the value of $u$ is held at $0.0$ along all four edges of the domain for all times."
   ]
  },
  {
   "cell_type": "code",
   "execution_count": 1,
   "id": "82c81550-b205-49ca-8dd1-af1441924a75",
   "metadata": {},
   "outputs": [],
   "source": [
    "# Import libraries\n",
    "\n",
    "import numpy as np\n",
    "import matplotlib.pyplot as plt\n"
   ]
  },
  {
   "cell_type": "markdown",
   "id": "54a2885a-07ed-4e66-86d2-dc8fa9d94729",
   "metadata": {},
   "source": [
    "## Domain definition:"
   ]
  },
  {
   "cell_type": "code",
   "execution_count": 2,
   "id": "bebbed95-3e48-49ff-8476-87c7000ab8f1",
   "metadata": {},
   "outputs": [],
   "source": [
    "# Define the domain and resolution\n",
    "Lx = Ly = 1.0\n",
    "Nx = Ny = 40\n",
    "\n",
    "# Spatial steps (index i)\n",
    "delta_x = delta_y = 2*Lx/Nx\n",
    "\n",
    "# Diffusion coeficient\n",
    "c = 1.\n",
    "\n",
    "# Time step\n",
    "t_sim = 0.1\n",
    "n_t   = 100\n",
    "delta_t = t_sim/n_t\n",
    "\n",
    "#print(delta_t)"
   ]
  },
  {
   "cell_type": "markdown",
   "id": "c1267457-0975-4841-b2b4-dbb0aff8a60d",
   "metadata": {},
   "source": [
    "### Mesh creation"
   ]
  },
  {
   "cell_type": "code",
   "execution_count": 3,
   "id": "cb65d52a-c991-44f6-9ab4-69e3a4595b26",
   "metadata": {},
   "outputs": [],
   "source": [
    "# 2D axes\n",
    "x = np.linspace(-Lx, +Lx, Nx)\n",
    "y = np.linspace(-Ly, +Ly, Ny)\n",
    "\n",
    "# Meshgrid\n",
    "x_2d, y_2d = np.meshgrid(x, y)\n",
    "\n",
    "#print(x_2d.size)"
   ]
  },
  {
   "cell_type": "markdown",
   "id": "d2485989-8acf-4440-81c0-9e27f344030a",
   "metadata": {},
   "source": [
    "### Initial condition"
   ]
  },
  {
   "cell_type": "code",
   "execution_count": 4,
   "id": "32315cc2-0d55-4633-8507-e5ebd341198f",
   "metadata": {},
   "outputs": [],
   "source": [
    "# Empty array\n",
    "u = np.zeros((Nx, Ny))\n",
    "\n",
    "#print(u.shape)\n",
    "# Add 1's inside the central box\n",
    "u[Nx //2 - Nx // 6:Nx//2 + Nx // 6, Ny //2 - Ny // 6:Ny//2 + Ny // 6] = 1.\n"
   ]
  },
  {
   "cell_type": "markdown",
   "id": "25870ba6-0afa-4b77-b4b5-c9dd0b172593",
   "metadata": {},
   "source": [
    "### Plotting the IC:"
   ]
  },
  {
   "cell_type": "code",
   "execution_count": 5,
   "id": "f55e6384-b892-469a-b063-8c6fefe5a1e5",
   "metadata": {},
   "outputs": [
    {
     "data": {
      "image/png": "[encoded data removed]",
      "text/plain": [
       "<Figure size 400x300 with 2 Axes>"
      ]
     },
     "metadata": {},
     "output_type": "display_data"
    }
   ],
   "source": [
    "plt.figure(figsize=(4,3))\n",
    "\n",
    "z_0 = plt.pcolor(x_2d, y_2d, u, cmap = \"plasma\", clim = (0,1))\n",
    "\n",
    "plt.colorbar(z_0)\n",
    "\n",
    "plt.show()"
   ]
  },
  {
   "cell_type": "markdown",
   "id": "370e5b4c-2611-4ee2-9efe-5cfcbcb88edd",
   "metadata": {},
   "source": [
    "### Numerics:\n",
    "\n",
    "$\\alpha=\\frac{c\\,\\Delta t}{2\\,\\Delta x^2}$"
   ]
  },
  {
   "cell_type": "code",
   "execution_count": 6,
   "id": "c1b82514-0807-41f6-99d2-ff47563348f2",
   "metadata": {},
   "outputs": [
    {
     "name": "stdout",
     "output_type": "stream",
     "text": [
      "-0.19999999999999996 1.7999999999999998\n"
     ]
    }
   ],
   "source": [
    "# Define alpha\n",
    "\n",
    "alpha = c*delta_t/(2*delta_x**2)\n",
    "\n",
    "print(-alpha, 1+ 4.*alpha)"
   ]
  },
  {
   "cell_type": "code",
   "execution_count": 7,
   "id": "3876ceec-7fa3-40bc-806b-e34fde98af11",
   "metadata": {},
   "outputs": [],
   "source": [
    "# Flatten the grid\n",
    "N = Nx*Ny\n",
    "\n"
   ]
  },
  {
   "cell_type": "markdown",
   "id": "9ee6f570-0ed3-4e48-a7c5-24fbb990c291",
   "metadata": {},
   "source": [
    "### LHS of the Crank Nicolson Method:"
   ]
  },
  {
   "cell_type": "code",
   "execution_count": 8,
   "id": "8f54d445-11b4-4e3c-809e-ac673dc21aa0",
   "metadata": {},
   "outputs": [],
   "source": [
    "# Diagonal elements\n",
    "diag_0 = (1 + 4*alpha)*np.ones(N)\n",
    "diag_s = -alpha*np.ones(N - 1)\n",
    "diag_u = -alpha*np.ones(N - Nx)\n",
    "#print(diag_s.shape)\n",
    "\n",
    "# For the A matrix (LHS)\n",
    "\n",
    "a_matrix = np.diag(diag_0)\n",
    "a_matrix += np.diag(diag_s, k = 1)\n",
    "a_matrix += np.diag(diag_s, k = -1)\n",
    "a_matrix += np.diag(diag_u, k = Nx)\n",
    "a_matrix += np.diag(diag_u, k = -Nx)\n"
   ]
  },
  {
   "cell_type": "code",
   "execution_count": 9,
   "id": "fd5e1074-fc6e-4b97-bc4e-cd5716d48f75",
   "metadata": {},
   "outputs": [
    {
     "name": "stdout",
     "output_type": "stream",
     "text": [
      "[0. 0. 0. ... 0. 0. 0.]\n"
     ]
    }
   ],
   "source": [
    "#print(a_matrix[4, :])"
   ]
  },
  {
   "cell_type": "code",
   "execution_count": 10,
   "id": "6f3822cb-9ade-4ef8-b376-58e9b7d0b459",
   "metadata": {},
   "outputs": [],
   "source": [
    "# Non-periodic boundary conditions\n",
    "for i in range(1, Ny):\n",
    "    # Last element of previous row and first element of current row = 0\n",
    "    a_matrix[i * Nx - 1, i * Nx] = 0\n",
    "    a_matrix[i * Nx, i * Nx - 1] = 0"
   ]
  },
  {
   "cell_type": "code",
   "execution_count": 11,
   "id": "d130f139-6c1e-467d-81ac-58a5f3bf3036",
   "metadata": {},
   "outputs": [
    {
     "name": "stdout",
     "output_type": "stream",
     "text": [
      "[ 0.   0.  -0.2 ...  0.   0.   0. ]\n",
      "[0. 0. 0. ... 0. 0. 0.]\n"
     ]
    }
   ],
   "source": [
    "print(a_matrix[3, :])\n",
    "\n",
    "print(a_matrix[4, :])"
   ]
  },
  {
   "cell_type": "code",
   "execution_count": 12,
   "id": "3905faaa-4eb0-4d28-8daf-05c52aa5a82f",
   "metadata": {},
   "outputs": [
    {
     "name": "stdout",
     "output_type": "stream",
     "text": [
      "(1600,)\n",
      "(40, 40)\n"
     ]
    }
   ],
   "source": [
    "# Define\n",
    "b = u.flatten()\n",
    "\n",
    "#print(b.shape)\n",
    "\n",
    "# Flattened solution\n",
    "u_new = np.linalg.solve(a_matrix, b)\n",
    "\n",
    "print(u_new.shape)\n",
    "\n",
    "# Reshape solution\n",
    "u_new = u_new.reshape((Nx, Ny))\n",
    "\n",
    "print(u_new.shape)"
   ]
  },
  {
   "cell_type": "code",
   "execution_count": 13,
   "id": "32f50a83-f801-4388-8626-2197e0a63970",
   "metadata": {},
   "outputs": [
    {
     "data": {
      "image/png": "[encoded data removed]",
      "text/plain": [
       "<Figure size 400x300 with 2 Axes>"
      ]
     },
     "metadata": {},
     "output_type": "display_data"
    }
   ],
   "source": [
    "plt.figure(figsize=(4,3))\n",
    "\n",
    "z_0 = plt.pcolor(x_2d, y_2d, u_new, cmap = \"plasma\", clim = (0,1))\n",
    "\n",
    "plt.colorbar(z_0)\n",
    "\n",
    "plt.show()"
   ]
  },
  {
   "cell_type": "markdown",
   "id": "04d8bb73-0e4a-4ae8-9a1b-ff792fe4df78",
   "metadata": {},
   "source": [
    "### RHS of the Crank-Nicolson method"
   ]
  },
  {
   "cell_type": "code",
   "execution_count": 14,
   "id": "89b354f1-8115-4345-b4a1-00610077fa4b",
   "metadata": {},
   "outputs": [
    {
     "name": "stdout",
     "output_type": "stream",
     "text": [
      "[[0.2 0.2 0.  ... 0.  0.  0. ]\n",
      " [0.2 0.2 0.2 ... 0.  0.  0. ]\n",
      " [0.  0.2 0.2 ... 0.  0.  0. ]\n",
      " ...\n",
      " [0.  0.  0.  ... 0.2 0.2 0. ]\n",
      " [0.  0.  0.  ... 0.2 0.2 0.2]\n",
      " [0.  0.  0.  ... 0.  0.2 0.2]]\n"
     ]
    }
   ],
   "source": [
    "# Diagonal elements\n",
    "diag_0 = (1 - 4*alpha)*np.ones(N)\n",
    "diag_s = alpha*np.ones(N - 1)\n",
    "diag_u = alpha*np.ones(N - Nx)\n",
    "#print(diag_s.shape)\n",
    "\n",
    "# For the A matrix (LHS)\n",
    "\n",
    "b_matrix = np.diag(diag_0)\n",
    "b_matrix += np.diag(diag_s, k = 1)\n",
    "b_matrix += np.diag(diag_s, k = -1)\n",
    "b_matrix += np.diag(diag_u, k = Nx)\n",
    "b_matrix += np.diag(diag_u, k = -Nx)\n",
    "\n",
    "print(b_matrix)"
   ]
  },
  {
   "cell_type": "code",
   "execution_count": 15,
   "id": "52fe148c-7805-444e-8c97-870a5cd589ec",
   "metadata": {},
   "outputs": [],
   "source": [
    "for i in range(1, Ny):\n",
    "    b_matrix[i * Nx - 1, i * Nx] = 0\n",
    "    b_matrix[i * Nx, i * Nx - 1] = 0"
   ]
  },
  {
   "cell_type": "code",
   "execution_count": null,
   "id": "cfe83a7b-321a-4226-8980-9a3b6cc22b73",
   "metadata": {},
   "outputs": [],
   "source": []
  },
  {
   "cell_type": "code",
   "execution_count": 16,
   "id": "11404220-4498-4e57-9ce8-677743100a39",
   "metadata": {},
   "outputs": [
    {
     "name": "stdout",
     "output_type": "stream",
     "text": [
      "(1600,)\n",
      "(40, 40)\n"
     ]
    }
   ],
   "source": [
    "# Define b using the explicit step\n",
    "b = b_matrix @ u.flatten()\n",
    "\n",
    "# Flattened solution\n",
    "u_new = np.linalg.solve(a_matrix, b)\n",
    "\n",
    "print(u_new.shape)\n",
    "\n",
    "# Reshape solution\n",
    "u_new = u_new.reshape((Nx, Ny))\n",
    "\n",
    "print(u_new.shape)"
   ]
  },
  {
   "cell_type": "code",
   "execution_count": 17,
   "id": "c53476b8-b6ac-43e3-aff7-eb9d5d325a48",
   "metadata": {},
   "outputs": [
    {
     "data": {
      "image/png": "[encoded data removed]",
      "text/plain": [
       "<Figure size 400x300 with 2 Axes>"
      ]
     },
     "metadata": {},
     "output_type": "display_data"
    }
   ],
   "source": [
    "plt.figure(figsize=(4,3))\n",
    "\n",
    "z_0 = plt.pcolor(x_2d, y_2d, u_new, cmap = \"plasma\", clim = (0,1))\n",
    "\n",
    "plt.colorbar(z_0)\n",
    "\n",
    "plt.show()"
   ]
  },
  {
   "cell_type": "markdown",
   "id": "70722a3b-d1a7-472c-abf5-db7f7b6bde5a",
   "metadata": {},
   "source": [
    "### Time evolution loop\n"
   ]
  },
  {
   "cell_type": "code",
   "execution_count": 18,
   "id": "4facca2c-df6f-4818-8319-5c5b46351773",
   "metadata": {},
   "outputs": [
    {
     "name": "stdout",
     "output_type": "stream",
     "text": [
      "(100, 40, 40)\n"
     ]
    }
   ],
   "source": [
    "# Empty 3D array (t,y,x)\n",
    "\n",
    "macro_arr = np.zeros((n_t, Ny, Nx))\n",
    "\n",
    "print(macro_arr.shape)\n",
    "\n",
    "macro_arr[0, :, : ] = u"
   ]
  },
  {
   "cell_type": "code",
   "execution_count": 19,
   "id": "a56ce294-94c2-420e-ab3b-b2dd7a8bc34e",
   "metadata": {},
   "outputs": [
    {
     "data": {
      "image/png": "[encoded data removed]",
      "text/plain": [
       "<Figure size 400x300 with 2 Axes>"
      ]
     },
     "metadata": {},
     "output_type": "display_data"
    }
   ],
   "source": [
    "plt.figure(figsize=(4,3))\n",
    "\n",
    "z_0 = plt.pcolor(x_2d, y_2d, macro_arr[0, :, : ], cmap = \"plasma\", clim = (0,1))\n",
    "\n",
    "plt.colorbar(z_0)\n",
    "\n",
    "plt.show()"
   ]
  },
  {
   "cell_type": "code",
   "execution_count": 20,
   "id": "aa6db6ac-9bbd-4d73-b050-4c9cd8f3c5eb",
   "metadata": {},
   "outputs": [],
   "source": [
    "# Make a copy of the initial condition\n",
    "u_new = u.copy()\n",
    "\n",
    "# For loop in time\n",
    "for n in range(n_t - 1):\n",
    "    #print(n)\n",
    "\n",
    "    # Define b using the explicit step - RHS\n",
    "    b = b_matrix @ u_new.flatten()\n",
    "    \n",
    "    # Flattened solution - LHS\n",
    "    u_new = np.linalg.solve(a_matrix, b)\n",
    "    \n",
    "    #print(u_new.shape)\n",
    "    \n",
    "    # Reshape solution\n",
    "    u_new = u_new.reshape((Nx, Ny))\n",
    "    \n",
    "    #print(u_new.shape)\n",
    "\n",
    "    macro_arr[n + 1, :, :] = u_new.copy()\n",
    "\n",
    "    "
   ]
  },
  {
   "cell_type": "code",
   "execution_count": 21,
   "id": "8431027d-f195-424a-97f0-15c873401c0b",
   "metadata": {},
   "outputs": [],
   "source": [
    "plt.figure(figsize=(4,3))\n",
    "\n",
    "for k in range(n_t):\n",
    "    z_0 = plt.pcolor(x_2d, y_2d, macro_arr[k, :, : ], cmap = \"plasma\", clim = (0,1))\n",
    "\n",
    "    plt.colorbar(z_0, shrink=0.6, pad=0.1)\n",
    "\n",
    "    plt.savefig(f\"dif2d{k:03d}.png\", bbox_inches='tight', pad_inches=0)\n",
    "    plt.close()"
   ]
  },
  {
   "cell_type": "code",
   "execution_count": 22,
   "id": "98f37685-9ce2-4c2d-aee4-0ae762144347",
   "metadata": {},
   "outputs": [
    {
     "name": "stdout",
     "output_type": "stream",
     "text": [
      "/Users/wbandabarragan/Library/CloudStorage/Dropbox/GitHub_Repos/computational-physics-2/unit-5\n"
     ]
    }
   ],
   "source": [
    "!pwd"
   ]
  },
  {
   "cell_type": "code",
   "execution_count": 23,
   "id": "d7a5c59b-e680-4268-a4e7-c2db752f85c0",
   "metadata": {},
   "outputs": [
    {
     "name": "stdout",
     "output_type": "stream",
     "text": [
      "-rw-r--r--@ 1 wbandabarragan  staff   9181 May 27 14:43 dif2d000.png\n",
      "-rw-r--r--@ 1 wbandabarragan  staff  15326 May 27 14:43 dif2d001.png\n",
      "-rw-r--r--@ 1 wbandabarragan  staff  15716 May 27 14:43 dif2d002.png\n",
      "-rw-r--r--@ 1 wbandabarragan  staff  16062 May 27 14:43 dif2d003.png\n",
      "-rw-r--r--@ 1 wbandabarragan  staff  16165 May 27 14:43 dif2d004.png\n",
      "-rw-r--r--@ 1 wbandabarragan  staff  16288 May 27 14:43 dif2d005.png\n",
      "-rw-r--r--@ 1 wbandabarragan  staff  16419 May 27 14:43 dif2d006.png\n",
      "-rw-r--r--@ 1 wbandabarragan  staff  16508 May 27 14:43 dif2d007.png\n",
      "-rw-r--r--@ 1 wbandabarragan  staff  16730 May 27 14:43 dif2d008.png\n",
      "-rw-r--r--@ 1 wbandabarragan  staff  16894 May 27 14:43 dif2d009.png\n",
      "-rw-r--r--@ 1 wbandabarragan  staff  16874 May 27 14:43 dif2d010.png\n",
      "-rw-r--r--@ 1 wbandabarragan  staff  17024 May 27 14:43 dif2d011.png\n",
      "-rw-r--r--@ 1 wbandabarragan  staff  17085 May 27 14:43 dif2d012.png\n",
      "-rw-r--r--@ 1 wbandabarragan  staff  17179 May 27 14:43 dif2d013.png\n",
      "-rw-r--r--@ 1 wbandabarragan  staff  17267 May 27 14:43 dif2d014.png\n",
      "-rw-r--r--@ 1 wbandabarragan  staff  17295 May 27 14:43 dif2d015.png\n",
      "-rw-r--r--@ 1 wbandabarragan  staff  17309 May 27 14:43 dif2d016.png\n",
      "-rw-r--r--@ 1 wbandabarragan  staff  17442 May 27 14:43 dif2d017.png\n",
      "-rw-r--r--@ 1 wbandabarragan  staff  17455 May 27 14:43 dif2d018.png\n",
      "-rw-r--r--@ 1 wbandabarragan  staff  17545 May 27 14:43 dif2d019.png\n",
      "-rw-r--r--@ 1 wbandabarragan  staff  17619 May 27 14:43 dif2d020.png\n",
      "-rw-r--r--@ 1 wbandabarragan  staff  17742 May 27 14:43 dif2d021.png\n",
      "-rw-r--r--@ 1 wbandabarragan  staff  17789 May 27 14:43 dif2d022.png\n",
      "-rw-r--r--@ 1 wbandabarragan  staff  17742 May 27 14:43 dif2d023.png\n",
      "-rw-r--r--@ 1 wbandabarragan  staff  18009 May 27 14:43 dif2d024.png\n",
      "-rw-r--r--@ 1 wbandabarragan  staff  18094 May 27 14:43 dif2d025.png\n",
      "-rw-r--r--@ 1 wbandabarragan  staff  18207 May 27 14:43 dif2d026.png\n",
      "-rw-r--r--@ 1 wbandabarragan  staff  18198 May 27 14:43 dif2d027.png\n",
      "-rw-r--r--@ 1 wbandabarragan  staff  18200 May 27 14:43 dif2d028.png\n",
      "-rw-r--r--@ 1 wbandabarragan  staff  18197 May 27 14:43 dif2d029.png\n",
      "-rw-r--r--@ 1 wbandabarragan  staff  18263 May 27 14:43 dif2d030.png\n",
      "-rw-r--r--@ 1 wbandabarragan  staff  18425 May 27 14:43 dif2d031.png\n",
      "-rw-r--r--@ 1 wbandabarragan  staff  18477 May 27 14:43 dif2d032.png\n",
      "-rw-r--r--@ 1 wbandabarragan  staff  18439 May 27 14:43 dif2d033.png\n",
      "-rw-r--r--@ 1 wbandabarragan  staff  18449 May 27 14:43 dif2d034.png\n",
      "-rw-r--r--@ 1 wbandabarragan  staff  18604 May 27 14:43 dif2d035.png\n",
      "-rw-r--r--@ 1 wbandabarragan  staff  18578 May 27 14:43 dif2d036.png\n",
      "-rw-r--r--@ 1 wbandabarragan  staff  18549 May 27 14:43 dif2d037.png\n",
      "-rw-r--r--@ 1 wbandabarragan  staff  18619 May 27 14:43 dif2d038.png\n",
      "-rw-r--r--@ 1 wbandabarragan  staff  18691 May 27 14:43 dif2d039.png\n",
      "-rw-r--r--@ 1 wbandabarragan  staff  18635 May 27 14:43 dif2d040.png\n",
      "-rw-r--r--@ 1 wbandabarragan  staff  18751 May 27 14:43 dif2d041.png\n",
      "-rw-r--r--@ 1 wbandabarragan  staff  18678 May 27 14:43 dif2d042.png\n",
      "-rw-r--r--@ 1 wbandabarragan  staff  18712 May 27 14:43 dif2d043.png\n",
      "-rw-r--r--@ 1 wbandabarragan  staff  18640 May 27 14:43 dif2d044.png\n",
      "-rw-r--r--@ 1 wbandabarragan  staff  18646 May 27 14:43 dif2d045.png\n",
      "-rw-r--r--@ 1 wbandabarragan  staff  18756 May 27 14:43 dif2d046.png\n",
      "-rw-r--r--@ 1 wbandabarragan  staff  18829 May 27 14:43 dif2d047.png\n",
      "-rw-r--r--@ 1 wbandabarragan  staff  19009 May 27 14:43 dif2d048.png\n",
      "-rw-r--r--@ 1 wbandabarragan  staff  19094 May 27 14:43 dif2d049.png\n",
      "-rw-r--r--@ 1 wbandabarragan  staff  18998 May 27 14:43 dif2d050.png\n",
      "-rw-r--r--@ 1 wbandabarragan  staff  19029 May 27 14:43 dif2d051.png\n",
      "-rw-r--r--@ 1 wbandabarragan  staff  18987 May 27 14:43 dif2d052.png\n",
      "-rw-r--r--@ 1 wbandabarragan  staff  18934 May 27 14:43 dif2d053.png\n",
      "-rw-r--r--@ 1 wbandabarragan  staff  19095 May 27 14:43 dif2d054.png\n",
      "-rw-r--r--@ 1 wbandabarragan  staff  19160 May 27 14:43 dif2d055.png\n",
      "-rw-r--r--@ 1 wbandabarragan  staff  19200 May 27 14:43 dif2d056.png\n",
      "-rw-r--r--@ 1 wbandabarragan  staff  19169 May 27 14:43 dif2d057.png\n",
      "-rw-r--r--@ 1 wbandabarragan  staff  19210 May 27 14:43 dif2d058.png\n",
      "-rw-r--r--@ 1 wbandabarragan  staff  19187 May 27 14:43 dif2d059.png\n",
      "-rw-r--r--@ 1 wbandabarragan  staff  19310 May 27 14:43 dif2d060.png\n",
      "-rw-r--r--@ 1 wbandabarragan  staff  19183 May 27 14:43 dif2d061.png\n",
      "-rw-r--r--@ 1 wbandabarragan  staff  19162 May 27 14:43 dif2d062.png\n",
      "-rw-r--r--@ 1 wbandabarragan  staff  19230 May 27 14:43 dif2d063.png\n",
      "-rw-r--r--@ 1 wbandabarragan  staff  19205 May 27 14:43 dif2d064.png\n",
      "-rw-r--r--@ 1 wbandabarragan  staff  19293 May 27 14:43 dif2d065.png\n",
      "-rw-r--r--@ 1 wbandabarragan  staff  19242 May 27 14:43 dif2d066.png\n",
      "-rw-r--r--@ 1 wbandabarragan  staff  19342 May 27 14:43 dif2d067.png\n",
      "-rw-r--r--@ 1 wbandabarragan  staff  19230 May 27 14:43 dif2d068.png\n",
      "-rw-r--r--@ 1 wbandabarragan  staff  19147 May 27 14:43 dif2d069.png\n",
      "-rw-r--r--@ 1 wbandabarragan  staff  19203 May 27 14:43 dif2d070.png\n",
      "-rw-r--r--@ 1 wbandabarragan  staff  19247 May 27 14:43 dif2d071.png\n",
      "-rw-r--r--@ 1 wbandabarragan  staff  19218 May 27 14:43 dif2d072.png\n",
      "-rw-r--r--@ 1 wbandabarragan  staff  19195 May 27 14:43 dif2d073.png\n",
      "-rw-r--r--@ 1 wbandabarragan  staff  19172 May 27 14:43 dif2d074.png\n",
      "-rw-r--r--@ 1 wbandabarragan  staff  19210 May 27 14:43 dif2d075.png\n",
      "-rw-r--r--@ 1 wbandabarragan  staff  19212 May 27 14:43 dif2d076.png\n",
      "-rw-r--r--@ 1 wbandabarragan  staff  19235 May 27 14:43 dif2d077.png\n",
      "-rw-r--r--@ 1 wbandabarragan  staff  19198 May 27 14:43 dif2d078.png\n",
      "-rw-r--r--@ 1 wbandabarragan  staff  19149 May 27 14:43 dif2d079.png\n",
      "-rw-r--r--@ 1 wbandabarragan  staff  19120 May 27 14:43 dif2d080.png\n",
      "-rw-r--r--@ 1 wbandabarragan  staff  19186 May 27 14:43 dif2d081.png\n",
      "-rw-r--r--@ 1 wbandabarragan  staff  19094 May 27 14:43 dif2d082.png\n",
      "-rw-r--r--@ 1 wbandabarragan  staff  19067 May 27 14:43 dif2d083.png\n",
      "-rw-r--r--@ 1 wbandabarragan  staff  18989 May 27 14:43 dif2d084.png\n",
      "-rw-r--r--@ 1 wbandabarragan  staff  18985 May 27 14:43 dif2d085.png\n",
      "-rw-r--r--@ 1 wbandabarragan  staff  19023 May 27 14:43 dif2d086.png\n",
      "-rw-r--r--@ 1 wbandabarragan  staff  18997 May 27 14:43 dif2d087.png\n",
      "-rw-r--r--@ 1 wbandabarragan  staff  18956 May 27 14:43 dif2d088.png\n",
      "-rw-r--r--@ 1 wbandabarragan  staff  18926 May 27 14:43 dif2d089.png\n",
      "-rw-r--r--@ 1 wbandabarragan  staff  18975 May 27 14:43 dif2d090.png\n",
      "-rw-r--r--@ 1 wbandabarragan  staff  19025 May 27 14:43 dif2d091.png\n",
      "-rw-r--r--@ 1 wbandabarragan  staff  18953 May 27 14:43 dif2d092.png\n",
      "-rw-r--r--@ 1 wbandabarragan  staff  18951 May 27 14:43 dif2d093.png\n",
      "-rw-r--r--@ 1 wbandabarragan  staff  18923 May 27 14:43 dif2d094.png\n",
      "-rw-r--r--@ 1 wbandabarragan  staff  18947 May 27 14:43 dif2d095.png\n",
      "-rw-r--r--@ 1 wbandabarragan  staff  18912 May 27 14:43 dif2d096.png\n",
      "-rw-r--r--@ 1 wbandabarragan  staff  18950 May 27 14:43 dif2d097.png\n",
      "-rw-r--r--@ 1 wbandabarragan  staff  18958 May 27 14:43 dif2d098.png\n",
      "-rw-r--r--@ 1 wbandabarragan  staff  18952 May 27 14:43 dif2d099.png\n"
     ]
    }
   ],
   "source": [
    "!ls -ltr *.png\n"
   ]
  },
  {
   "cell_type": "code",
   "execution_count": null,
   "id": "44779882-5da9-48e3-a0ff-5906008beb96",
   "metadata": {},
   "outputs": [],
   "source": []
  }
 ],
 "metadata": {
  "kernelspec": {
   "display_name": "Python 3 (ipykernel)",
   "language": "python",
   "name": "python3"
  },
  "language_info": {
   "codemirror_mode": {
    "name": "ipython",
    "version": 3
   },
   "file_extension": ".py",
   "mimetype": "text/x-python",
   "name": "python",
   "nbconvert_exporter": "python",
   "pygments_lexer": "ipython3",
   "version": "3.9.15"
  }
 },
 "nbformat": 4,
 "nbformat_minor": 5
}
