{
 "cells": [
  {
   "cell_type": "markdown",
   "id": "588a211a-ff8e-46cf-937c-9a6b484f15dc",
   "metadata": {},
   "source": [
    "# Practice Problem: Heat Diffusion in 2D\n",
    "\n",
    "Study thermal diffusion in 2D using the **Crank-Nicolson method**. Consider the diffusion of a quantity $u(x, y, t)$ over a two-dimensional spatial domain $ x\\in = [-L_x,+L_x]$ and $y\\in [-L_y,+L_y]$.\n",
    "\n",
    "The governing equation for this process is the 2D diffusion equation:\n",
    "\n",
    "$$\n",
    "\\frac{\\partial u}{\\partial t} = c \\left( \\frac{\\partial^2 u}{\\partial x^2} + \\frac{\\partial^2 u}{\\partial y^2} \\right)\n",
    "$$\n",
    "\n",
    "where $c$ is the diffusion coefficient.\n",
    "\n",
    "At time $t=0$, the quantity $u(x, y, 0)$ is a **square pulse** centered at the origin $(0,0)$ equal to $1.0$ within the region $[-\\frac{L_x}{4}, +\\frac{L_x}{4}] \\times [-\\frac{L_y}{4}, +\\frac{L_y}{4}] $ and $0.0$ everywhere else. Implement fixed **Dirichlet** boundary conditions where the value of $u$ is held at $0.0$ along all four edges of the domain for all times."
   ]
  },
  {
   "cell_type": "code",
   "execution_count": 1,
   "id": "82c81550-b205-49ca-8dd1-af1441924a75",
   "metadata": {},
   "outputs": [],
   "source": [
    "# Import libraries\n",
    "\n",
    "import numpy as np\n",
    "import matplotlib.pyplot as plt\n"
   ]
  },
  {
   "cell_type": "markdown",
   "id": "54a2885a-07ed-4e66-86d2-dc8fa9d94729",
   "metadata": {},
   "source": [
    "## Domain definition:"
   ]
  },
  {
   "cell_type": "code",
   "execution_count": 2,
   "id": "bebbed95-3e48-49ff-8476-87c7000ab8f1",
   "metadata": {},
   "outputs": [],
   "source": [
    "# Define the domain and resolution\n",
    "Lx = Ly = 1.0\n",
    "Nx = Ny = 20\n",
    "\n",
    "# Spatial steps (index i)\n",
    "delta_x = delta_y = 2*Lx/Nx\n",
    "\n",
    "# Diffusion coeficient\n",
    "c = 1.\n",
    "\n",
    "# Time step\n",
    "t_sim = 0.1\n",
    "n_t   = 100\n",
    "delta_t = t_sim/n_t\n",
    "\n",
    "#print(delta_t)"
   ]
  },
  {
   "cell_type": "markdown",
   "id": "c1267457-0975-4841-b2b4-dbb0aff8a60d",
   "metadata": {},
   "source": [
    "### Mesh creation"
   ]
  },
  {
   "cell_type": "code",
   "execution_count": 3,
   "id": "cb65d52a-c991-44f6-9ab4-69e3a4595b26",
   "metadata": {},
   "outputs": [],
   "source": [
    "# 2D axes\n",
    "x = np.linspace(-Lx, +Lx, Nx)\n",
    "y = np.linspace(-Ly, +Ly, Ny)\n",
    "\n",
    "# Meshgrid\n",
    "x_2d, y_2d = np.meshgrid(x, y)\n",
    "\n",
    "#print(x_2d.size)"
   ]
  },
  {
   "cell_type": "markdown",
   "id": "d2485989-8acf-4440-81c0-9e27f344030a",
   "metadata": {},
   "source": [
    "### Initial condition"
   ]
  },
  {
   "cell_type": "code",
   "execution_count": 4,
   "id": "32315cc2-0d55-4633-8507-e5ebd341198f",
   "metadata": {},
   "outputs": [],
   "source": [
    "# Empty array\n",
    "u = np.zeros((Nx, Ny))\n",
    "\n",
    "#print(u.shape)\n",
    "# Add 1's inside the central box\n",
    "u[Nx //2 - Nx // 6:Nx//2 + Nx // 6, Ny //2 - Ny // 6:Ny//2 + Ny // 6] = 1.\n"
   ]
  },
  {
   "cell_type": "markdown",
   "id": "25870ba6-0afa-4b77-b4b5-c9dd0b172593",
   "metadata": {},
   "source": [
    "### Plotting the IC:"
   ]
  },
  {
   "cell_type": "code",
   "execution_count": 5,
   "id": "f55e6384-b892-469a-b063-8c6fefe5a1e5",
   "metadata": {},
   "outputs": [
    {
     "data": {
      "image/png": "[encoded data removed]",
      "text/plain": [
       "<Figure size 400x300 with 2 Axes>"
      ]
     },
     "metadata": {},
     "output_type": "display_data"
    }
   ],
   "source": [
    "plt.figure(figsize=(4,3))\n",
    "\n",
    "z_0 = plt.pcolor(x_2d, y_2d, u, cmap = \"plasma\", clim = (0,1))\n",
    "\n",
    "plt.colorbar(z_0)\n",
    "\n",
    "plt.show()"
   ]
  },
  {
   "cell_type": "markdown",
   "id": "370e5b4c-2611-4ee2-9efe-5cfcbcb88edd",
   "metadata": {},
   "source": [
    "### Numerics:\n",
    "\n",
    "$\\alpha=\\frac{c\\,\\Delta t}{2\\,\\Delta x^2}$"
   ]
  },
  {
   "cell_type": "code",
   "execution_count": 6,
   "id": "c1b82514-0807-41f6-99d2-ff47563348f2",
   "metadata": {},
   "outputs": [
    {
     "name": "stdout",
     "output_type": "stream",
     "text": [
      "-0.04999999999999999 1.2\n"
     ]
    }
   ],
   "source": [
    "# Define alpha\n",
    "\n",
    "alpha = c*delta_t/(2*delta_x**2)\n",
    "\n",
    "print(-alpha, 1+ 4.*alpha)"
   ]
  },
  {
   "cell_type": "code",
   "execution_count": 7,
   "id": "3876ceec-7fa3-40bc-806b-e34fde98af11",
   "metadata": {},
   "outputs": [],
   "source": [
    "# Flatten the grid\n",
    "N = Nx*Ny\n",
    "\n"
   ]
  },
  {
   "cell_type": "markdown",
   "id": "9ee6f570-0ed3-4e48-a7c5-24fbb990c291",
   "metadata": {},
   "source": [
    "### LHS of the Crank Nicolson Method:"
   ]
  },
  {
   "cell_type": "code",
   "execution_count": 8,
   "id": "8f54d445-11b4-4e3c-809e-ac673dc21aa0",
   "metadata": {},
   "outputs": [
    {
     "name": "stdout",
     "output_type": "stream",
     "text": [
      "(400, 400)\n"
     ]
    }
   ],
   "source": [
    "# Diagonal elements\n",
    "diag_0 = (1 + 4*alpha)*np.ones(N)\n",
    "diag_s = -alpha*np.ones(N - 1)\n",
    "diag_u = -alpha*np.ones(N - Nx)\n",
    "#print(diag_s.shape)\n",
    "\n",
    "# For the A matrix (LHS)\n",
    "\n",
    "a_matrix = np.diag(diag_0)\n",
    "a_matrix += np.diag(diag_s, k = 1)\n",
    "a_matrix += np.diag(diag_s, k = -1)\n",
    "a_matrix += np.diag(diag_u, k = Nx)\n",
    "a_matrix += np.diag(diag_u, k = -Nx)\n",
    "\n",
    "print(a_matrix.shape)"
   ]
  },
  {
   "cell_type": "code",
   "execution_count": 9,
   "id": "3905faaa-4eb0-4d28-8daf-05c52aa5a82f",
   "metadata": {},
   "outputs": [
    {
     "name": "stdout",
     "output_type": "stream",
     "text": [
      "(400,)\n",
      "(20, 20)\n"
     ]
    }
   ],
   "source": [
    "# Define\n",
    "b = u.flatten()\n",
    "\n",
    "#print(b.shape)\n",
    "\n",
    "# Flattened solution\n",
    "u_new = np.linalg.solve(a_matrix, b)\n",
    "\n",
    "print(u_new.shape)\n",
    "\n",
    "# Reshape solution\n",
    "u_new = u_new.reshape((Nx, Ny))\n",
    "\n",
    "print(u_new.shape)"
   ]
  },
  {
   "cell_type": "code",
   "execution_count": 10,
   "id": "32f50a83-f801-4388-8626-2197e0a63970",
   "metadata": {},
   "outputs": [
    {
     "data": {
      "image/png": "[encoded data removed]",
      "text/plain": [
       "<Figure size 400x300 with 2 Axes>"
      ]
     },
     "metadata": {},
     "output_type": "display_data"
    }
   ],
   "source": [
    "plt.figure(figsize=(4,3))\n",
    "\n",
    "z_0 = plt.pcolor(x_2d, y_2d, u_new, cmap = \"plasma\", clim = (0,1))\n",
    "\n",
    "plt.colorbar(z_0)\n",
    "\n",
    "plt.show()"
   ]
  },
  {
   "cell_type": "markdown",
   "id": "04d8bb73-0e4a-4ae8-9a1b-ff792fe4df78",
   "metadata": {},
   "source": [
    "### RHS of the Crank-Nicolson method"
   ]
  },
  {
   "cell_type": "code",
   "execution_count": 11,
   "id": "89b354f1-8115-4345-b4a1-00610077fa4b",
   "metadata": {},
   "outputs": [
    {
     "name": "stdout",
     "output_type": "stream",
     "text": [
      "(400, 400)\n"
     ]
    }
   ],
   "source": [
    "# Diagonal elements\n",
    "diag_0 = (1 - 4*alpha)*np.ones(N)\n",
    "diag_s = alpha*np.ones(N - 1)\n",
    "diag_u = alpha*np.ones(N - Nx)\n",
    "#print(diag_s.shape)\n",
    "\n",
    "# For the A matrix (LHS)\n",
    "\n",
    "b_matrix = np.diag(diag_0)\n",
    "b_matrix += np.diag(diag_s, k = 1)\n",
    "b_matrix += np.diag(diag_s, k = -1)\n",
    "b_matrix += np.diag(diag_u, k = Nx)\n",
    "b_matrix += np.diag(diag_u, k = -Nx)\n",
    "\n",
    "print(b_matrix.shape)"
   ]
  },
  {
   "cell_type": "code",
   "execution_count": 12,
   "id": "11404220-4498-4e57-9ce8-677743100a39",
   "metadata": {},
   "outputs": [
    {
     "name": "stdout",
     "output_type": "stream",
     "text": [
      "(400,)\n",
      "(20, 20)\n"
     ]
    }
   ],
   "source": [
    "# Define b using the explicit step\n",
    "b = b_matrix @ u.flatten()\n",
    "\n",
    "# Flattened solution\n",
    "u_new = np.linalg.solve(a_matrix, b)\n",
    "\n",
    "print(u_new.shape)\n",
    "\n",
    "# Reshape solution\n",
    "u_new = u_new.reshape((Nx, Ny))\n",
    "\n",
    "print(u_new.shape)"
   ]
  },
  {
   "cell_type": "code",
   "execution_count": 13,
   "id": "c53476b8-b6ac-43e3-aff7-eb9d5d325a48",
   "metadata": {},
   "outputs": [
    {
     "data": {
      "image/png": "[encoded data removed]",
      "text/plain": [
       "<Figure size 400x300 with 2 Axes>"
      ]
     },
     "metadata": {},
     "output_type": "display_data"
    }
   ],
   "source": [
    "plt.figure(figsize=(4,3))\n",
    "\n",
    "z_0 = plt.pcolor(x_2d, y_2d, u_new, cmap = \"plasma\", clim = (0,1))\n",
    "\n",
    "plt.colorbar(z_0)\n",
    "\n",
    "plt.show()"
   ]
  },
  {
   "cell_type": "markdown",
   "id": "70722a3b-d1a7-472c-abf5-db7f7b6bde5a",
   "metadata": {},
   "source": [
    "### Time evolution loop\n"
   ]
  },
  {
   "cell_type": "code",
   "execution_count": 14,
   "id": "4facca2c-df6f-4818-8319-5c5b46351773",
   "metadata": {},
   "outputs": [
    {
     "name": "stdout",
     "output_type": "stream",
     "text": [
      "(100, 20, 20)\n"
     ]
    }
   ],
   "source": [
    "# Empty 3D array (t,y,x)\n",
    "\n",
    "macro_arr = np.zeros((n_t, Ny, Nx))\n",
    "\n",
    "print(macro_arr.shape)\n",
    "\n",
    "macro_arr[0, :, : ] = u"
   ]
  },
  {
   "cell_type": "code",
   "execution_count": 15,
   "id": "a56ce294-94c2-420e-ab3b-b2dd7a8bc34e",
   "metadata": {},
   "outputs": [
    {
     "data": {
      "image/png": "[encoded data removed]",
      "text/plain": [
       "<Figure size 400x300 with 2 Axes>"
      ]
     },
     "metadata": {},
     "output_type": "display_data"
    }
   ],
   "source": [
    "plt.figure(figsize=(4,3))\n",
    "\n",
    "z_0 = plt.pcolor(x_2d, y_2d, macro_arr[0, :, : ], cmap = \"plasma\", clim = (0,1))\n",
    "\n",
    "plt.colorbar(z_0)\n",
    "\n",
    "plt.show()"
   ]
  },
  {
   "cell_type": "code",
   "execution_count": 16,
   "id": "aa6db6ac-9bbd-4d73-b050-4c9cd8f3c5eb",
   "metadata": {},
   "outputs": [],
   "source": [
    "# Make a copy of the initial condition\n",
    "u_new = u.copy()\n",
    "\n",
    "# For loop in time\n",
    "for n in range(n_t - 1):\n",
    "    #print(n)\n",
    "\n",
    "    # Define b using the explicit step - RHS\n",
    "    b = b_matrix @ u_new.flatten()\n",
    "    \n",
    "    # Flattened solution - LHS\n",
    "    u_new = np.linalg.solve(a_matrix, b)\n",
    "    \n",
    "    #print(u_new.shape)\n",
    "    \n",
    "    # Reshape solution\n",
    "    u_new = u_new.reshape((Nx, Ny))\n",
    "    \n",
    "    #print(u_new.shape)\n",
    "\n",
    "    macro_arr[n + 1, :, :] = u_new.copy()\n",
    "\n",
    "    "
   ]
  },
  {
   "cell_type": "code",
   "execution_count": 20,
   "id": "8431027d-f195-424a-97f0-15c873401c0b",
   "metadata": {},
   "outputs": [],
   "source": [
    "plt.figure(figsize=(4,3))\n",
    "\n",
    "for k in range(n_t):\n",
    "    z_0 = plt.pcolor(x_2d, y_2d, macro_arr[k, :, : ], cmap = \"plasma\", clim = (0,1))\n",
    "\n",
    "    plt.colorbar(z_0)\n",
    "\n",
    "    plt.savefig(f\"dif2d_{k:03d}.png\")\n",
    "    plt.close()"
   ]
  },
  {
   "cell_type": "code",
   "execution_count": 19,
   "id": "d7a5c59b-e680-4268-a4e7-c2db752f85c0",
   "metadata": {},
   "outputs": [
    {
     "name": "stdout",
     "output_type": "stream",
     "text": [
      "-rw-r--r--@ 1 wbandabarragan  staff  11063 May 21 14:46 dif2d_000.png\n",
      "-rw-r--r--@ 1 wbandabarragan  staff  18821 May 21 14:46 dif2d_001.png\n",
      "-rw-r--r--@ 1 wbandabarragan  staff  18821 May 21 14:46 dif2d_002.png\n",
      "-rw-r--r--@ 1 wbandabarragan  staff  18821 May 21 14:46 dif2d_003.png\n",
      "-rw-r--r--@ 1 wbandabarragan  staff  18821 May 21 14:46 dif2d_004.png\n",
      "-rw-r--r--@ 1 wbandabarragan  staff  18821 May 21 14:46 dif2d_005.png\n",
      "-rw-r--r--@ 1 wbandabarragan  staff  18821 May 21 14:46 dif2d_006.png\n",
      "-rw-r--r--@ 1 wbandabarragan  staff  18821 May 21 14:46 dif2d_007.png\n",
      "-rw-r--r--@ 1 wbandabarragan  staff  18821 May 21 14:46 dif2d_008.png\n",
      "-rw-r--r--@ 1 wbandabarragan  staff  18821 May 21 14:46 dif2d_009.png\n",
      "-rw-r--r--@ 1 wbandabarragan  staff  18821 May 21 14:46 dif2d_010.png\n",
      "-rw-r--r--@ 1 wbandabarragan  staff  18821 May 21 14:46 dif2d_011.png\n",
      "-rw-r--r--@ 1 wbandabarragan  staff  18821 May 21 14:46 dif2d_012.png\n",
      "-rw-r--r--@ 1 wbandabarragan  staff  18821 May 21 14:46 dif2d_013.png\n",
      "-rw-r--r--@ 1 wbandabarragan  staff  18821 May 21 14:46 dif2d_014.png\n",
      "-rw-r--r--@ 1 wbandabarragan  staff  18821 May 21 14:46 dif2d_015.png\n",
      "-rw-r--r--@ 1 wbandabarragan  staff  18821 May 21 14:46 dif2d_016.png\n",
      "-rw-r--r--@ 1 wbandabarragan  staff  18821 May 21 14:46 dif2d_017.png\n",
      "-rw-r--r--@ 1 wbandabarragan  staff  18821 May 21 14:46 dif2d_018.png\n",
      "-rw-r--r--@ 1 wbandabarragan  staff  18821 May 21 14:46 dif2d_019.png\n",
      "-rw-r--r--@ 1 wbandabarragan  staff  18821 May 21 14:46 dif2d_020.png\n",
      "-rw-r--r--@ 1 wbandabarragan  staff  18821 May 21 14:46 dif2d_021.png\n",
      "-rw-r--r--@ 1 wbandabarragan  staff  18821 May 21 14:46 dif2d_022.png\n",
      "-rw-r--r--@ 1 wbandabarragan  staff  18821 May 21 14:46 dif2d_023.png\n",
      "-rw-r--r--@ 1 wbandabarragan  staff  18821 May 21 14:46 dif2d_024.png\n",
      "-rw-r--r--@ 1 wbandabarragan  staff  18821 May 21 14:46 dif2d_025.png\n",
      "-rw-r--r--@ 1 wbandabarragan  staff  18821 May 21 14:46 dif2d_026.png\n",
      "-rw-r--r--@ 1 wbandabarragan  staff  18821 May 21 14:46 dif2d_027.png\n",
      "-rw-r--r--@ 1 wbandabarragan  staff  18821 May 21 14:46 dif2d_028.png\n",
      "-rw-r--r--@ 1 wbandabarragan  staff  18821 May 21 14:46 dif2d_029.png\n",
      "-rw-r--r--@ 1 wbandabarragan  staff  18821 May 21 14:46 dif2d_030.png\n",
      "-rw-r--r--@ 1 wbandabarragan  staff  18821 May 21 14:46 dif2d_031.png\n",
      "-rw-r--r--@ 1 wbandabarragan  staff  18821 May 21 14:46 dif2d_032.png\n",
      "-rw-r--r--@ 1 wbandabarragan  staff  18821 May 21 14:46 dif2d_033.png\n",
      "-rw-r--r--@ 1 wbandabarragan  staff  18821 May 21 14:46 dif2d_034.png\n",
      "-rw-r--r--@ 1 wbandabarragan  staff  18821 May 21 14:46 dif2d_035.png\n",
      "-rw-r--r--@ 1 wbandabarragan  staff  18821 May 21 14:46 dif2d_036.png\n",
      "-rw-r--r--@ 1 wbandabarragan  staff  18821 May 21 14:46 dif2d_037.png\n",
      "-rw-r--r--@ 1 wbandabarragan  staff  18821 May 21 14:46 dif2d_038.png\n",
      "-rw-r--r--@ 1 wbandabarragan  staff  18821 May 21 14:46 dif2d_039.png\n",
      "-rw-r--r--@ 1 wbandabarragan  staff  18821 May 21 14:46 dif2d_040.png\n",
      "-rw-r--r--@ 1 wbandabarragan  staff  18821 May 21 14:46 dif2d_041.png\n",
      "-rw-r--r--@ 1 wbandabarragan  staff  18821 May 21 14:46 dif2d_042.png\n",
      "-rw-r--r--@ 1 wbandabarragan  staff  18821 May 21 14:46 dif2d_043.png\n",
      "-rw-r--r--@ 1 wbandabarragan  staff  18821 May 21 14:46 dif2d_044.png\n",
      "-rw-r--r--@ 1 wbandabarragan  staff  18821 May 21 14:46 dif2d_045.png\n",
      "-rw-r--r--@ 1 wbandabarragan  staff  18821 May 21 14:46 dif2d_046.png\n",
      "-rw-r--r--@ 1 wbandabarragan  staff  18821 May 21 14:46 dif2d_047.png\n",
      "-rw-r--r--@ 1 wbandabarragan  staff  18821 May 21 14:46 dif2d_048.png\n",
      "-rw-r--r--@ 1 wbandabarragan  staff  18821 May 21 14:46 dif2d_049.png\n",
      "-rw-r--r--@ 1 wbandabarragan  staff  18821 May 21 14:46 dif2d_050.png\n",
      "-rw-r--r--@ 1 wbandabarragan  staff  18821 May 21 14:46 dif2d_051.png\n",
      "-rw-r--r--@ 1 wbandabarragan  staff  18821 May 21 14:46 dif2d_052.png\n",
      "-rw-r--r--@ 1 wbandabarragan  staff  18821 May 21 14:46 dif2d_053.png\n",
      "-rw-r--r--@ 1 wbandabarragan  staff  18821 May 21 14:46 dif2d_054.png\n",
      "-rw-r--r--@ 1 wbandabarragan  staff  18821 May 21 14:46 dif2d_055.png\n",
      "-rw-r--r--@ 1 wbandabarragan  staff  18821 May 21 14:46 dif2d_056.png\n",
      "-rw-r--r--@ 1 wbandabarragan  staff  18821 May 21 14:46 dif2d_057.png\n",
      "-rw-r--r--@ 1 wbandabarragan  staff  18821 May 21 14:46 dif2d_058.png\n",
      "-rw-r--r--@ 1 wbandabarragan  staff  18821 May 21 14:46 dif2d_059.png\n",
      "-rw-r--r--@ 1 wbandabarragan  staff  18821 May 21 14:46 dif2d_060.png\n",
      "-rw-r--r--@ 1 wbandabarragan  staff  18821 May 21 14:46 dif2d_061.png\n",
      "-rw-r--r--@ 1 wbandabarragan  staff  18821 May 21 14:46 dif2d_062.png\n",
      "-rw-r--r--@ 1 wbandabarragan  staff  18821 May 21 14:46 dif2d_063.png\n",
      "-rw-r--r--@ 1 wbandabarragan  staff  18821 May 21 14:46 dif2d_064.png\n",
      "-rw-r--r--@ 1 wbandabarragan  staff  18821 May 21 14:46 dif2d_065.png\n",
      "-rw-r--r--@ 1 wbandabarragan  staff  18821 May 21 14:46 dif2d_066.png\n",
      "-rw-r--r--@ 1 wbandabarragan  staff  18821 May 21 14:46 dif2d_067.png\n",
      "-rw-r--r--@ 1 wbandabarragan  staff  18821 May 21 14:46 dif2d_068.png\n",
      "-rw-r--r--@ 1 wbandabarragan  staff  18821 May 21 14:46 dif2d_069.png\n",
      "-rw-r--r--@ 1 wbandabarragan  staff  18821 May 21 14:46 dif2d_070.png\n",
      "-rw-r--r--@ 1 wbandabarragan  staff  18821 May 21 14:46 dif2d_071.png\n",
      "-rw-r--r--@ 1 wbandabarragan  staff  18821 May 21 14:46 dif2d_072.png\n",
      "-rw-r--r--@ 1 wbandabarragan  staff  18821 May 21 14:46 dif2d_073.png\n",
      "-rw-r--r--@ 1 wbandabarragan  staff  18821 May 21 14:46 dif2d_074.png\n",
      "-rw-r--r--@ 1 wbandabarragan  staff  18821 May 21 14:46 dif2d_075.png\n",
      "-rw-r--r--@ 1 wbandabarragan  staff  18821 May 21 14:46 dif2d_076.png\n",
      "-rw-r--r--@ 1 wbandabarragan  staff  18821 May 21 14:46 dif2d_077.png\n",
      "-rw-r--r--@ 1 wbandabarragan  staff  18821 May 21 14:46 dif2d_078.png\n",
      "-rw-r--r--@ 1 wbandabarragan  staff  18821 May 21 14:46 dif2d_079.png\n",
      "-rw-r--r--@ 1 wbandabarragan  staff  18821 May 21 14:46 dif2d_080.png\n",
      "-rw-r--r--@ 1 wbandabarragan  staff  18821 May 21 14:46 dif2d_081.png\n",
      "-rw-r--r--@ 1 wbandabarragan  staff  18821 May 21 14:46 dif2d_082.png\n",
      "-rw-r--r--@ 1 wbandabarragan  staff  18821 May 21 14:46 dif2d_083.png\n",
      "-rw-r--r--@ 1 wbandabarragan  staff  18821 May 21 14:46 dif2d_084.png\n",
      "-rw-r--r--@ 1 wbandabarragan  staff  18821 May 21 14:46 dif2d_085.png\n",
      "-rw-r--r--@ 1 wbandabarragan  staff  18821 May 21 14:46 dif2d_086.png\n",
      "-rw-r--r--@ 1 wbandabarragan  staff  18821 May 21 14:46 dif2d_087.png\n",
      "-rw-r--r--@ 1 wbandabarragan  staff  18821 May 21 14:46 dif2d_088.png\n",
      "-rw-r--r--@ 1 wbandabarragan  staff  18821 May 21 14:46 dif2d_089.png\n",
      "-rw-r--r--@ 1 wbandabarragan  staff  18821 May 21 14:46 dif2d_090.png\n",
      "-rw-r--r--@ 1 wbandabarragan  staff  18821 May 21 14:46 dif2d_091.png\n",
      "-rw-r--r--@ 1 wbandabarragan  staff  18821 May 21 14:46 dif2d_092.png\n",
      "-rw-r--r--@ 1 wbandabarragan  staff  18821 May 21 14:46 dif2d_093.png\n",
      "-rw-r--r--@ 1 wbandabarragan  staff  18821 May 21 14:46 dif2d_094.png\n",
      "-rw-r--r--@ 1 wbandabarragan  staff  18821 May 21 14:46 dif2d_095.png\n",
      "-rw-r--r--@ 1 wbandabarragan  staff  18821 May 21 14:46 dif2d_096.png\n",
      "-rw-r--r--@ 1 wbandabarragan  staff  18821 May 21 14:46 dif2d_097.png\n",
      "-rw-r--r--@ 1 wbandabarragan  staff  18821 May 21 14:46 dif2d_098.png\n",
      "-rw-r--r--@ 1 wbandabarragan  staff  18821 May 21 14:46 dif2d_099.png\n"
     ]
    }
   ],
   "source": [
    "!ls -ltr *.png"
   ]
  },
  {
   "cell_type": "code",
   "execution_count": null,
   "id": "44779882-5da9-48e3-a0ff-5906008beb96",
   "metadata": {},
   "outputs": [],
   "source": []
  }
 ],
 "metadata": {
  "kernelspec": {
   "display_name": "Python 3 (ipykernel)",
   "language": "python",
   "name": "python3"
  },
  "language_info": {
   "codemirror_mode": {
    "name": "ipython",
    "version": 3
   },
   "file_extension": ".py",
   "mimetype": "text/x-python",
   "name": "python",
   "nbconvert_exporter": "python",
   "pygments_lexer": "ipython3",
   "version": "3.9.15"
  }
 },
 "nbformat": 4,
 "nbformat_minor": 5
}
