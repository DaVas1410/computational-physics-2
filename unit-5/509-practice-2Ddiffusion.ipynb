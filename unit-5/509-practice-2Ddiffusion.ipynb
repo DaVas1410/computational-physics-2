{
 "cells": [
  {
   "cell_type": "markdown",
   "id": "588a211a-ff8e-46cf-937c-9a6b484f15dc",
   "metadata": {},
   "source": [
    "# Practice Problem: Heat Diffusion in 2D\n",
    "\n",
    "Study thermal diffusion in 2D using the **Crank-Nicolson method**. Consider the diffusion of a quantity $u(x, y, t)$ over a two-dimensional spatial domain $ x\\in = [-L_x,+L_x]$ and $y\\in [-L_y,+L_y]$.\n",
    "\n",
    "The governing equation for this process is the 2D diffusion equation:\n",
    "\n",
    "$$\n",
    "\\frac{\\partial u}{\\partial t} = c \\left( \\frac{\\partial^2 u}{\\partial x^2} + \\frac{\\partial^2 u}{\\partial y^2} \\right)\n",
    "$$\n",
    "\n",
    "where $c$ is the diffusion coefficient.\n",
    "\n",
    "At time $t=0$, the quantity $u(x, y, 0)$ is a **square pulse** centered at the origin $(0,0)$ equal to $1.0$ within the region $[-\\frac{L_x}{4}, +\\frac{L_x}{4}] \\times [-\\frac{L_y}{4}, +\\frac{L_y}{4}] $ and $0.0$ everywhere else. Implement fixed **Dirichlet** boundary conditions where the value of $u$ is held at $0.0$ along all four edges of the domain for all times."
   ]
  },
  {
   "cell_type": "code",
   "execution_count": null,
   "id": "82c81550-b205-49ca-8dd1-af1441924a75",
   "metadata": {},
   "outputs": [],
   "source": []
  },
  {
   "cell_type": "code",
   "execution_count": null,
   "id": "bebbed95-3e48-49ff-8476-87c7000ab8f1",
   "metadata": {},
   "outputs": [],
   "source": []
  }
 ],
 "metadata": {
  "kernelspec": {
   "display_name": "Python 3 (ipykernel)",
   "language": "python",
   "name": "python3"
  },
  "language_info": {
   "codemirror_mode": {
    "name": "ipython",
    "version": 3
   },
   "file_extension": ".py",
   "mimetype": "text/x-python",
   "name": "python",
   "nbconvert_exporter": "python",
   "pygments_lexer": "ipython3",
   "version": "3.9.15"
  }
 },
 "nbformat": 4,
 "nbformat_minor": 5
}
