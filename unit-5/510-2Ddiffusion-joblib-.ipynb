{
 "cells": [
  {
   "cell_type": "code",
   "execution_count": 1,
   "id": "b4be13e9-ec6f-4006-b9f0-8c35d93f9b0a",
   "metadata": {},
   "outputs": [],
   "source": [
    "# Import libraries\n",
    "import numpy as np\n",
    "import matplotlib.pyplot as plt\n",
    "import os\n",
    "import glob\n",
    "from PIL import Image # Pillow library -> PIL\n",
    "from IPython import display\n",
    "import time\n",
    "from joblib import Parallel, delayed, cpu_count\n",
    "\n",
    "import pandas as pd"
   ]
  },
  {
   "cell_type": "markdown",
   "id": "a7ce803f-b0d0-4a4e-a1b1-62683baa7567",
   "metadata": {},
   "source": [
    "### Global function:"
   ]
  },
  {
   "cell_type": "code",
   "execution_count": 2,
   "id": "b297717b-4955-49ad-ab81-ffcaf4db4638",
   "metadata": {},
   "outputs": [],
   "source": [
    "# Define a global function\n",
    "\n",
    "def run_simulation(c_value, N):\n",
    "    \"\"\"\n",
    "    \"\"\"\n",
    "    # Define the domain and resolution\n",
    "    Lx = Ly = 1.0\n",
    "    Nx = Ny = N\n",
    "    \n",
    "    # Spatial steps (index i)\n",
    "    delta_x = delta_y = 2*Lx/Nx\n",
    "    \n",
    "    # Diffusion coeficient\n",
    "    c = c_value\n",
    "    \n",
    "    # Time step\n",
    "    t_sim = 0.1\n",
    "    n_t   = 100\n",
    "    delta_t = t_sim/n_t\n",
    "\n",
    "    # 2D axes\n",
    "    x = np.linspace(-Lx, +Lx, Nx)\n",
    "    y = np.linspace(-Ly, +Ly, Ny)\n",
    "    \n",
    "    # Meshgrid\n",
    "    x_2d, y_2d = np.meshgrid(x, y)\n",
    "\n",
    "    # Empty array\n",
    "    u = np.zeros((Nx, Ny))\n",
    "    \n",
    "    #print(u.shape)\n",
    "    # Add 1's inside the central box -> square pulse\n",
    "    u[Nx //2 - Nx // 6:Nx//2 + Nx // 6, Ny //2 - Ny // 6:Ny//2 + Ny // 6] = 1.\n",
    "\n",
    "    # Define alpha\n",
    "    alpha = c*delta_t/(2*delta_x**2)\n",
    "    #return u\n",
    "\n",
    "    # Flatten the grid\n",
    "    N = Nx*Ny\n",
    "\n",
    "    # Diagonal elements\n",
    "    diag_0 = (1 + 4*alpha)*np.ones(N)\n",
    "    diag_s = -alpha*np.ones(N - 1)\n",
    "    diag_u = -alpha*np.ones(N - Nx)\n",
    "    #print(diag_s.shape)\n",
    "    \n",
    "    # For the A matrix (LHS)\n",
    "    a_matrix = np.diag(diag_0)\n",
    "    a_matrix += np.diag(diag_s, k = 1)\n",
    "    a_matrix += np.diag(diag_s, k = -1)\n",
    "    a_matrix += np.diag(diag_u, k = Nx)\n",
    "    a_matrix += np.diag(diag_u, k = -Nx)\n",
    "\n",
    "    # Non-periodic boundary conditions\n",
    "    for i in range(1, Ny):\n",
    "        # Last element of previous row and first element of current row = 0\n",
    "        a_matrix[i * Nx - 1, i * Nx] = 0\n",
    "        a_matrix[i * Nx, i * Nx - 1] = 0\n",
    "\n",
    "    # Diagonal elements\n",
    "    diag_0 = (1 - 4*alpha)*np.ones(N)\n",
    "    diag_s = alpha*np.ones(N - 1)\n",
    "    diag_u = alpha*np.ones(N - Nx)\n",
    "    #print(diag_s.shape)\n",
    "    \n",
    "    # For the B matrix RLHS)\n",
    "    \n",
    "    b_matrix = np.diag(diag_0)\n",
    "    b_matrix += np.diag(diag_s, k = 1)\n",
    "    b_matrix += np.diag(diag_s, k = -1)\n",
    "    b_matrix += np.diag(diag_u, k = Nx)\n",
    "    b_matrix += np.diag(diag_u, k = -Nx)\n",
    "    \n",
    "    #print(b_matrix)\n",
    "    for i in range(1, Ny):\n",
    "        b_matrix[i * Nx - 1, i * Nx] = 0\n",
    "        b_matrix[i * Nx, i * Nx - 1] = 0\n",
    "    \n",
    "    # Define b using the explicit step\n",
    "    b = b_matrix @ u.flatten()\n",
    "    \n",
    "    # Flattened solution\n",
    "    u_new = np.linalg.solve(a_matrix, b)\n",
    "    \n",
    "    # Reshape solution\n",
    "    u_new = u_new.reshape((Nx, Ny))\n",
    "\n",
    "    #return u_new\n",
    "    # Empty 3D array (t,y,x)\n",
    "    \n",
    "    macro_arr = np.zeros((n_t, Ny, Nx))\n",
    "    \n",
    "    macro_arr[0, :, : ] = u\n",
    "\n",
    "    # Make a copy of the initial condition\n",
    "    u_new = u.copy()\n",
    "    \n",
    "    # For loop in time\n",
    "    for n in range(n_t - 1):\n",
    "        #print(n)\n",
    "    \n",
    "        # Define b using the explicit step - RHS\n",
    "        b = b_matrix @ u_new.flatten()\n",
    "        \n",
    "        # Flattened solution - LHS\n",
    "        u_new = np.linalg.solve(a_matrix, b)\n",
    "        \n",
    "        #print(u_new.shape)\n",
    "        \n",
    "        # Reshape solution\n",
    "        u_new = u_new.reshape((Nx, Ny))\n",
    "        \n",
    "        #print(u_new.shape)\n",
    "    \n",
    "        macro_arr[n + 1, :, :] = u_new.copy()\n",
    "    \n",
    "    return x_2d, y_2d, macro_arr"
   ]
  },
  {
   "cell_type": "code",
   "execution_count": 3,
   "id": "bd1e7645-ecbc-439b-8ecf-7bfe63f1b403",
   "metadata": {},
   "outputs": [],
   "source": [
    "#x_2d, y_2d, a_test = run_simulation(1., 40)\n",
    "\n",
    "#print(len(a_test))"
   ]
  },
  {
   "cell_type": "code",
   "execution_count": 4,
   "id": "19602f59-786a-4e69-b4f5-dfe4fc2d42af",
   "metadata": {},
   "outputs": [],
   "source": [
    "# for k in range(len(a_test)):\n",
    "    \n",
    "#     # 2D projection\n",
    "#     plt.figure(figsize=(4,3))\n",
    "#     z_0 = plt.pcolor(x_2d, y_2d, a_test[k, :, : ], cmap = \"plasma\", clim = (0,1))\n",
    "\n",
    "#     plt.colorbar(z_0, shrink=0.6, pad=0.1)\n",
    "\n",
    "#     plt.xlim(-1., +1.)\n",
    "#     plt.ylim(-1., +1.)\n",
    "\n",
    "#     plt.show()"
   ]
  },
  {
   "cell_type": "markdown",
   "id": "2f2f683c-46f6-40ca-a210-66115c37ed2c",
   "metadata": {},
   "source": [
    "### Execution lines:"
   ]
  },
  {
   "cell_type": "code",
   "execution_count": 5,
   "id": "adb4ae8e-9d10-44d7-a0af-5dd7ff90d5de",
   "metadata": {},
   "outputs": [
    {
     "name": "stdout",
     "output_type": "stream",
     "text": [
      "[60.158092975616455, 29.77104687690735, 13.645395994186401, 6.30972695350647]\n"
     ]
    }
   ],
   "source": [
    "if __name__ == \"__main__\":\n",
    "\n",
    "    # List of c values\n",
    "    c_vals = list(np.linspace(0.1, 1.5, 8))\n",
    "    \n",
    "    # Resolution\n",
    "    n_res = 40\n",
    "\n",
    "    # Number of CPU cores\n",
    "    n_cpu = [1, 2, 4, 8]\n",
    "\n",
    "    # Empty list to store times\n",
    "    elapsed_times = []\n",
    "\n",
    "    # Call joblib'\n",
    "    for k in range(len(n_cpu)):\n",
    "        #print(n_cpu[k])\n",
    "        \n",
    "        # Start time stamp\n",
    "        st_time = time.time()        \n",
    "        \n",
    "        Parallel(n_jobs = n_cpu[k])(delayed(run_simulation)(c_vals[i], n_res) for i in range(len(c_vals)))\n",
    "        \n",
    "        # End time stamp\n",
    "        en_time = time.time()  \n",
    "\n",
    "        # Elapsed time\n",
    "        elapsed = en_time - st_time\n",
    "\n",
    "        # Append elapsed time values\n",
    "        elapsed_times.append(elapsed)\n",
    "\n",
    "    # Print the time\n",
    "    print(elapsed_times)\n",
    "\n"
   ]
  },
  {
   "cell_type": "markdown",
   "id": "ea660395-7627-433f-9fd7-f20911fc594a",
   "metadata": {},
   "source": [
    "### Computational scaling:"
   ]
  },
  {
   "cell_type": "code",
   "execution_count": 6,
   "id": "65bb820a-5b9d-4af9-b4b0-cc28b19ade86",
   "metadata": {},
   "outputs": [
    {
     "data": {
      "image/png": "[encoded data removed]",
      "text/plain": [
       "<Figure size 1100x300 with 1 Axes>"
      ]
     },
     "metadata": {},
     "output_type": "display_data"
    }
   ],
   "source": [
    "plt.figure(figsize=(11,3))\n",
    "\n",
    "plt.plot(n_cpu, elapsed_times, color = \"magenta\")\n",
    "\n",
    "plt.xlabel(r\"$n_{cpu}$\")\n",
    "\n",
    "plt.ylabel(r\"$t_{sim}$\")\n",
    "\n",
    "plt.show()"
   ]
  },
  {
   "cell_type": "code",
   "execution_count": null,
   "id": "78112f43-007b-4413-9cd0-1f459f0ab4bf",
   "metadata": {},
   "outputs": [],
   "source": []
  }
 ],
 "metadata": {
  "kernelspec": {
   "display_name": "Python 3 (ipykernel)",
   "language": "python",
   "name": "python3"
  },
  "language_info": {
   "codemirror_mode": {
    "name": "ipython",
    "version": 3
   },
   "file_extension": ".py",
   "mimetype": "text/x-python",
   "name": "python",
   "nbconvert_exporter": "python",
   "pygments_lexer": "ipython3",
   "version": "3.9.18"
  }
 },
 "nbformat": 4,
 "nbformat_minor": 5
}
